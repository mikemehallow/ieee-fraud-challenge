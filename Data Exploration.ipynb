{
 "cells": [
  {
   "cell_type": "markdown",
   "metadata": {},
   "source": [
    "# IEEE CIS Fraud Detection\n",
    "## Exploration of Data\n",
    "By: Michael Mehallow\n",
    "\n",
    "This notebook is a general exploratory analysis of the data used. It includes the majority of the exploration I undertook to understand the data and perform feature engineering. One of the main challenges of this competition was that the vast majority of meanings of the columns were hidden.\n",
    "\n",
    "Through this analysis, as well as fellow Kagglers, the meaning of certain features was discovered. This notebook enabled me to discover a number of key features of the data."
   ]
  },
  {
   "cell_type": "code",
   "execution_count": 3,
   "metadata": {},
   "outputs": [],
   "source": [
    "import pandas as pd\n",
    "import numpy as np\n",
    "import matplotlib.pyplot as plt\n",
    "import seaborn as sns\n",
    "import category_encoders as ce\n",
    "import time\n",
    "import pickle"
   ]
  },
  {
   "cell_type": "code",
   "execution_count": 5,
   "metadata": {},
   "outputs": [],
   "source": [
    "file = open('train_test.pickle', 'rb')\n",
    "all_train, all_y_train, all_test = pickle.load(file)    \n",
    "\n",
    "# Randomly sample 10% of the data to make visualization easier\n",
    "train = all_train.sample(frac=0.1)"
   ]
  },
  {
   "cell_type": "code",
   "execution_count": 6,
   "metadata": {},
   "outputs": [
    {
     "data": {
      "text/plain": [
       "59054"
      ]
     },
     "execution_count": 6,
     "metadata": {},
     "output_type": "execute_result"
    }
   ],
   "source": [
    "len(train)"
   ]
  },
  {
   "cell_type": "markdown",
   "metadata": {},
   "source": [
    "## Exploration\n",
    "\n",
    "Start out by understanding the size of the training data."
   ]
  },
  {
   "cell_type": "code",
   "execution_count": 7,
   "metadata": {},
   "outputs": [
    {
     "name": "stdout",
     "output_type": "stream",
     "text": [
      "<class 'pandas.core.frame.DataFrame'>\n",
      "Int64Index: 59054 entries, 3316052 to 3327115\n",
      "Columns: 433 entries, isFraud to DeviceInfo\n",
      "dtypes: float16(354), float32(45), int16(1), int32(1), int8(1), object(31)\n",
      "memory usage: 64.8+ MB\n"
     ]
    }
   ],
   "source": [
    "train.info()"
   ]
  },
  {
   "cell_type": "code",
   "execution_count": 8,
   "metadata": {},
   "outputs": [
    {
     "data": {
      "text/plain": [
       "0.035171199241372304"
      ]
     },
     "execution_count": 8,
     "metadata": {},
     "output_type": "execute_result"
    }
   ],
   "source": [
    "# Percent of fraudulent transactions\n",
    "train['isFraud'].mean()"
   ]
  },
  {
   "cell_type": "markdown",
   "metadata": {},
   "source": [
    "There is significant class imbalance in the training data, with just 3.5% of samples being fradulent. This class imbalance will need to be balanced as part of the data pipeline."
   ]
  },
  {
   "cell_type": "markdown",
   "metadata": {},
   "source": [
    "### Product Category\n",
    "One of the interesting features, that we have some information on is ProductCD. Below is an exploration of the properties of each category."
   ]
  },
  {
   "cell_type": "code",
   "execution_count": 10,
   "metadata": {},
   "outputs": [
    {
     "data": {
      "text/plain": [
       "<matplotlib.axes._subplots.AxesSubplot at 0x19e0332eef0>"
      ]
     },
     "execution_count": 10,
     "metadata": {},
     "output_type": "execute_result"
    },
    {
     "data": {
      "image/png": "[encoded data removed]",
      "text/plain": [
       "<Figure size 432x288 with 1 Axes>"
      ]
     },
     "metadata": {},
     "output_type": "display_data"
    }
   ],
   "source": [
    "train.groupby(['ProductCD'])['ProductCD'].count().plot.bar()"
   ]
  },
  {
   "cell_type": "markdown",
   "metadata": {},
   "source": [
    "There are signficantly more \"W\" class of ProductCD. Any additional information about clases needs to be inferred from the data.\n",
    "\n",
    "Potentially some information could be gained by looking at if there is addresses, email domains, and device id fields associated with the groups."
   ]
  },
  {
   "cell_type": "code",
   "execution_count": 17,
   "metadata": {},
   "outputs": [
    {
     "data": {
      "text/plain": [
       "<matplotlib.axes._subplots.AxesSubplot at 0x19d80cc7588>"
      ]
     },
     "execution_count": 17,
     "metadata": {},
     "output_type": "execute_result"
    },
    {
     "data": {
      "image/png": "[encoded data removed]",
      "text/plain": [
       "<Figure size 432x288 with 2 Axes>"
      ]
     },
     "metadata": {},
     "output_type": "display_data"
    }
   ],
   "source": [
    "sns.heatmap(train.groupby(['ProductCD'])[['addr1', 'addr2', 'P_emaildomain', 'R_emaildomain', 'id_01']].apply(lambda x: 1-x.isna().mean()))"
   ]
  },
  {
   "cell_type": "markdown",
   "metadata": {},
   "source": [
    "This is very interesting.\n",
    "\n",
    "Product W, the most frequent almost always has addresses, but rarely has a recepient email or device id associated with it.\n",
    "\n",
    "Product C: Does not have addr1 or addr 2\n",
    "\n",
    "Product S: Does not have P_emaildomain\n",
    "\n",
    "Product H: Sometimes does not have R_emaildomain"
   ]
  },
  {
   "cell_type": "markdown",
   "metadata": {},
   "source": [
    "Next I would like to check if group has a higher percent of fradulent transactions."
   ]
  },
  {
   "cell_type": "code",
   "execution_count": 20,
   "metadata": {},
   "outputs": [
    {
     "data": {
      "text/plain": [
       "<matplotlib.axes._subplots.AxesSubplot at 0x19d80ee5208>"
      ]
     },
     "execution_count": 20,
     "metadata": {},
     "output_type": "execute_result"
    },
    {
     "data": {
      "image/png": "[encoded data removed]",
      "text/plain": [
       "<Figure size 432x288 with 1 Axes>"
      ]
     },
     "metadata": {},
     "output_type": "display_data"
    }
   ],
   "source": [
    "train.groupby('ProductCD')['isFraud'].mean().plot.bar()"
   ]
  },
  {
   "cell_type": "markdown",
   "metadata": {},
   "source": [
    "Product C contains nearly 2-3 times the rate of fraudulent transactions of the other classes. Class W, the largest, has the smallest rate of fraud."
   ]
  },
  {
   "cell_type": "code",
   "execution_count": 21,
   "metadata": {},
   "outputs": [
    {
     "data": {
      "text/plain": [
       "<matplotlib.axes._subplots.AxesSubplot at 0x19d80fe55c0>"
      ]
     },
     "execution_count": 21,
     "metadata": {},
     "output_type": "execute_result"
    },
    {
     "data": {
      "image/png": "[encoded data removed]",
      "text/plain": [
       "<Figure size 432x288 with 2 Axes>"
      ]
     },
     "metadata": {},
     "output_type": "display_data"
    }
   ],
   "source": [
    "sns.heatmap(train.groupby(['ProductCD', 'card6'])['isFraud'].mean().unstack('card6'))"
   ]
  },
  {
   "cell_type": "markdown",
   "metadata": {},
   "source": [
    "## Card Features \n",
    "There are a number of card features which can help identify users."
   ]
  },
  {
   "cell_type": "code",
   "execution_count": 22,
   "metadata": {},
   "outputs": [
    {
     "name": "stdout",
     "output_type": "stream",
     "text": [
      "['card1', 'card2', 'card3', 'card4', 'card5', 'card6']\n"
     ]
    }
   ],
   "source": [
    "card_cols = [x for x in train.columns if 'card' in x]\n",
    "print(card_cols)"
   ]
  },
  {
   "cell_type": "markdown",
   "metadata": {},
   "source": [
    "Lets take a peek at the data..."
   ]
  },
  {
   "cell_type": "code",
   "execution_count": 36,
   "metadata": {},
   "outputs": [
    {
     "data": {
      "text/html": [
       "<div>\n",
       "<style scoped>\n",
       "    .dataframe tbody tr th:only-of-type {\n",
       "        vertical-align: middle;\n",
       "    }\n",
       "\n",
       "    .dataframe tbody tr th {\n",
       "        vertical-align: top;\n",
       "    }\n",
       "\n",
       "    .dataframe thead th {\n",
       "        text-align: right;\n",
       "    }\n",
       "</style>\n",
       "<table border=\"1\" class=\"dataframe\">\n",
       "  <thead>\n",
       "    <tr style=\"text-align: right;\">\n",
       "      <th></th>\n",
       "      <th>card1</th>\n",
       "      <th>card2</th>\n",
       "      <th>card3</th>\n",
       "      <th>card4</th>\n",
       "      <th>card5</th>\n",
       "      <th>card6</th>\n",
       "    </tr>\n",
       "    <tr>\n",
       "      <th>TransactionID</th>\n",
       "      <th></th>\n",
       "      <th></th>\n",
       "      <th></th>\n",
       "      <th></th>\n",
       "      <th></th>\n",
       "      <th></th>\n",
       "    </tr>\n",
       "  </thead>\n",
       "  <tbody>\n",
       "    <tr>\n",
       "      <th>3316052</th>\n",
       "      <td>16075</td>\n",
       "      <td>514.0</td>\n",
       "      <td>150.0</td>\n",
       "      <td>mastercard</td>\n",
       "      <td>102.0</td>\n",
       "      <td>credit</td>\n",
       "    </tr>\n",
       "    <tr>\n",
       "      <th>3366066</th>\n",
       "      <td>11839</td>\n",
       "      <td>490.0</td>\n",
       "      <td>150.0</td>\n",
       "      <td>visa</td>\n",
       "      <td>226.0</td>\n",
       "      <td>debit</td>\n",
       "    </tr>\n",
       "    <tr>\n",
       "      <th>3544715</th>\n",
       "      <td>10057</td>\n",
       "      <td>225.0</td>\n",
       "      <td>150.0</td>\n",
       "      <td>mastercard</td>\n",
       "      <td>224.0</td>\n",
       "      <td>debit</td>\n",
       "    </tr>\n",
       "    <tr>\n",
       "      <th>3116041</th>\n",
       "      <td>3181</td>\n",
       "      <td>152.0</td>\n",
       "      <td>150.0</td>\n",
       "      <td>visa</td>\n",
       "      <td>226.0</td>\n",
       "      <td>debit</td>\n",
       "    </tr>\n",
       "    <tr>\n",
       "      <th>3411631</th>\n",
       "      <td>11159</td>\n",
       "      <td>253.0</td>\n",
       "      <td>150.0</td>\n",
       "      <td>mastercard</td>\n",
       "      <td>224.0</td>\n",
       "      <td>debit</td>\n",
       "    </tr>\n",
       "  </tbody>\n",
       "</table>\n",
       "</div>"
      ],
      "text/plain": [
       "               card1  card2  card3       card4  card5   card6\n",
       "TransactionID                                                \n",
       "3316052        16075  514.0  150.0  mastercard  102.0  credit\n",
       "3366066        11839  490.0  150.0        visa  226.0   debit\n",
       "3544715        10057  225.0  150.0  mastercard  224.0   debit\n",
       "3116041         3181  152.0  150.0        visa  226.0   debit\n",
       "3411631        11159  253.0  150.0  mastercard  224.0   debit"
      ]
     },
     "execution_count": 36,
     "metadata": {},
     "output_type": "execute_result"
    }
   ],
   "source": [
    "train[card_cols].head()"
   ]
  },
  {
   "cell_type": "code",
   "execution_count": 27,
   "metadata": {},
   "outputs": [
    {
     "data": {
      "text/plain": [
       "(0, 1)"
      ]
     },
     "execution_count": 27,
     "metadata": {},
     "output_type": "execute_result"
    },
    {
     "data": {
      "image/png": "[encoded data removed]",
      "text/plain": [
       "<Figure size 432x288 with 1 Axes>"
      ]
     },
     "metadata": {},
     "output_type": "display_data"
    }
   ],
   "source": [
    "train[card_cols].isna().agg(['mean']).T.plot.bar()\n",
    "plt.ylim([0, 1])"
   ]
  },
  {
   "cell_type": "code",
   "execution_count": 29,
   "metadata": {},
   "outputs": [
    {
     "data": {
      "text/html": [
       "<div>\n",
       "<style scoped>\n",
       "    .dataframe tbody tr th:only-of-type {\n",
       "        vertical-align: middle;\n",
       "    }\n",
       "\n",
       "    .dataframe tbody tr th {\n",
       "        vertical-align: top;\n",
       "    }\n",
       "\n",
       "    .dataframe thead th {\n",
       "        text-align: right;\n",
       "    }\n",
       "</style>\n",
       "<table border=\"1\" class=\"dataframe\">\n",
       "  <thead>\n",
       "    <tr style=\"text-align: right;\">\n",
       "      <th></th>\n",
       "      <th>card1</th>\n",
       "      <th>card2</th>\n",
       "      <th>card3</th>\n",
       "      <th>card4</th>\n",
       "      <th>card5</th>\n",
       "      <th>card6</th>\n",
       "    </tr>\n",
       "  </thead>\n",
       "  <tbody>\n",
       "    <tr>\n",
       "      <th>mean</th>\n",
       "      <td>0.0</td>\n",
       "      <td>0.014868</td>\n",
       "      <td>0.002659</td>\n",
       "      <td>0.002676</td>\n",
       "      <td>0.006994</td>\n",
       "      <td>0.002659</td>\n",
       "    </tr>\n",
       "  </tbody>\n",
       "</table>\n",
       "</div>"
      ],
      "text/plain": [
       "      card1     card2     card3     card4     card5     card6\n",
       "mean    0.0  0.014868  0.002659  0.002676  0.006994  0.002659"
      ]
     },
     "execution_count": 29,
     "metadata": {},
     "output_type": "execute_result"
    }
   ],
   "source": [
    "train[card_cols].isna().agg(['mean'])"
   ]
  },
  {
   "cell_type": "markdown",
   "metadata": {},
   "source": [
    "Very few card fields are missing. No records are missing card1!"
   ]
  },
  {
   "cell_type": "markdown",
   "metadata": {},
   "source": [
    "Card 1 is an identifier of an account.\n",
    "\n",
    "One piece of interesting information will be the number of transactions for each card. And what is the typical number of transactions per card in the training set. This is shown below."
   ]
  },
  {
   "cell_type": "code",
   "execution_count": 32,
   "metadata": {},
   "outputs": [
    {
     "data": {
      "image/png": "[encoded data removed]",
      "text/plain": [
       "<Figure size 432x288 with 1 Axes>"
      ]
     },
     "metadata": {},
     "output_type": "display_data"
    }
   ],
   "source": [
    "card1_value_counts = train['card1'].value_counts().sort_values(ascending=False).values\n",
    "plt.plot(card1_value_counts)\n",
    "plt.show()"
   ]
  },
  {
   "cell_type": "markdown",
   "metadata": {},
   "source": [
    "This diagram shows the majority of card1s have very few transactions, and some card1s have a very high number of transactions."
   ]
  },
  {
   "cell_type": "markdown",
   "metadata": {},
   "source": [
    "Next, we repeat for card2."
   ]
  },
  {
   "cell_type": "code",
   "execution_count": 34,
   "metadata": {},
   "outputs": [
    {
     "data": {
      "image/png": "[encoded data removed]",
      "text/plain": [
       "<Figure size 432x288 with 1 Axes>"
      ]
     },
     "metadata": {},
     "output_type": "display_data"
    }
   ],
   "source": [
    "card2_value_counts = train['card2'].value_counts().sort_values(ascending=False).values\n",
    "plt.plot(card2_value_counts)\n",
    "plt.show()"
   ]
  },
  {
   "cell_type": "markdown",
   "metadata": {},
   "source": [
    "## Address exploration\n",
    "\n",
    "addr1 and addr2 are actually categorical variable corresponding to country/state region. Unfortunately we aren't given the specifics."
   ]
  },
  {
   "cell_type": "code",
   "execution_count": 52,
   "metadata": {},
   "outputs": [
    {
     "name": "stdout",
     "output_type": "stream",
     "text": [
      "Number of unique addr1 : 144\n",
      "Number of unique addr2 : 28\n"
     ]
    }
   ],
   "source": [
    "print('Number of unique addr1 : ' + str(len(set(train.addr1.dropna()))))\n",
    "print('Number of unique addr2 : ' + str(len(set(train.addr2.dropna()))))"
   ]
  },
  {
   "cell_type": "markdown",
   "metadata": {},
   "source": [
    "The following figure shows that the majority of samples come from 40 different addr1 areas."
   ]
  },
  {
   "cell_type": "code",
   "execution_count": 46,
   "metadata": {},
   "outputs": [
    {
     "data": {
      "image/png": "[encoded data removed]",
      "text/plain": [
       "<Figure size 432x288 with 1 Axes>"
      ]
     },
     "metadata": {},
     "output_type": "display_data"
    }
   ],
   "source": [
    "addr1_value_counts = train['addr1'].value_counts().sort_values(ascending=False).values.cumsum()\n",
    "plt.plot(addr1_value_counts)\n",
    "plt.show()"
   ]
  },
  {
   "cell_type": "markdown",
   "metadata": {},
   "source": [
    "The cumulative sum by addr2 is even more interesting. This shows that there are signficantly less different addr2 values And that the majority of samples have one of 3 different addr2 values."
   ]
  },
  {
   "cell_type": "code",
   "execution_count": 51,
   "metadata": {},
   "outputs": [
    {
     "data": {
      "image/png": "[encoded data removed]",
      "text/plain": [
       "<Figure size 432x288 with 1 Axes>"
      ]
     },
     "metadata": {},
     "output_type": "display_data"
    }
   ],
   "source": [
    "addr2_value_counts = train['addr2'].value_counts().sort_values(ascending=False).values.cumsum()\n",
    "plt.plot(addr2_value_counts)\n",
    "plt.show()"
   ]
  },
  {
   "cell_type": "markdown",
   "metadata": {},
   "source": [
    "## Distance\n",
    "\n",
    "Also included is dist1 and dist2, which can represent distance. I assume that larger distances may correspond with a remote person who has stolen account/card attempting to use the card. Therfore I think it is likely that distance is an important predictive feature."
   ]
  },
  {
   "cell_type": "code",
   "execution_count": 58,
   "metadata": {},
   "outputs": [
    {
     "data": {
      "image/png": "[encoded data removed]",
      "text/plain": [
       "<Figure size 432x288 with 1 Axes>"
      ]
     },
     "metadata": {},
     "output_type": "display_data"
    }
   ],
   "source": [
    "sns.kdeplot(train.dist1.dropna())\n",
    "plt.show()"
   ]
  },
  {
   "cell_type": "code",
   "execution_count": 59,
   "metadata": {},
   "outputs": [
    {
     "data": {
      "image/png": "[encoded data removed]",
      "text/plain": [
       "<Figure size 432x288 with 1 Axes>"
      ]
     },
     "metadata": {},
     "output_type": "display_data"
    }
   ],
   "source": [
    "sns.kdeplot(train.dist2.dropna())\n",
    "plt.show()"
   ]
  },
  {
   "cell_type": "code",
   "execution_count": 62,
   "metadata": {},
   "outputs": [
    {
     "data": {
      "text/plain": [
       "[]"
      ]
     },
     "execution_count": 62,
     "metadata": {},
     "output_type": "execute_result"
    },
    {
     "data": {
      "image/png": "[encoded data removed]",
      "text/plain": [
       "<Figure size 432x288 with 1 Axes>"
      ]
     },
     "metadata": {},
     "output_type": "display_data"
    }
   ],
   "source": [
    "isfraud_idx = train['isFraud']==1\n",
    "sns.kdeplot(train[~isfraud_idx].dist1.dropna(), label='Valid')\n",
    "sns.kdeplot(train[isfraud_idx].dist1.dropna(), label='Fraud')\n",
    "plt.ylim([0, 0.002])\n",
    "plt.plot()"
   ]
  },
  {
   "cell_type": "markdown",
   "metadata": {},
   "source": [
    "## Email Exploration\n",
    "The data also includes email addresses. These could provide valuable information."
   ]
  },
  {
   "cell_type": "code",
   "execution_count": 68,
   "metadata": {},
   "outputs": [
    {
     "data": {
      "text/plain": [
       "<matplotlib.axes._subplots.AxesSubplot at 0x19d81846be0>"
      ]
     },
     "execution_count": 68,
     "metadata": {},
     "output_type": "execute_result"
    },
    {
     "data": {
      "image/png": "[encoded data removed]",
      "text/plain": [
       "<Figure size 432x288 with 1 Axes>"
      ]
     },
     "metadata": {},
     "output_type": "display_data"
    }
   ],
   "source": [
    "train['P_emaildomain'].fillna('NA').value_counts()[:20].plot.bar()"
   ]
  },
  {
   "cell_type": "code",
   "execution_count": 69,
   "metadata": {},
   "outputs": [
    {
     "data": {
      "text/plain": [
       "<matplotlib.axes._subplots.AxesSubplot at 0x19d81928d30>"
      ]
     },
     "execution_count": 69,
     "metadata": {},
     "output_type": "execute_result"
    },
    {
     "data": {
      "image/png": "[encoded data removed]",
      "text/plain": [
       "<Figure size 432x288 with 1 Axes>"
      ]
     },
     "metadata": {},
     "output_type": "display_data"
    }
   ],
   "source": [
    "train['R_emaildomain'].fillna('NA').value_counts()[:20].plot.bar()"
   ]
  },
  {
   "cell_type": "markdown",
   "metadata": {},
   "source": [
    "### Extract email country end"
   ]
  },
  {
   "cell_type": "code",
   "execution_count": 70,
   "metadata": {},
   "outputs": [],
   "source": [
    "train['P_emailloc'] = train['P_emaildomain'].str.extract(\"\\.(.*)\").fillna('na')\n",
    "train['R_emailloc'] = train['R_emaildomain'].str.extract(\"\\.(.*)\").fillna('na')"
   ]
  },
  {
   "cell_type": "code",
   "execution_count": 71,
   "metadata": {},
   "outputs": [
    {
     "data": {
      "text/html": [
       "<div>\n",
       "<style scoped>\n",
       "    .dataframe tbody tr th:only-of-type {\n",
       "        vertical-align: middle;\n",
       "    }\n",
       "\n",
       "    .dataframe tbody tr th {\n",
       "        vertical-align: top;\n",
       "    }\n",
       "\n",
       "    .dataframe thead th {\n",
       "        text-align: right;\n",
       "    }\n",
       "</style>\n",
       "<table border=\"1\" class=\"dataframe\">\n",
       "  <thead>\n",
       "    <tr style=\"text-align: right;\">\n",
       "      <th></th>\n",
       "      <th>mean</th>\n",
       "      <th>sum</th>\n",
       "      <th>count</th>\n",
       "    </tr>\n",
       "    <tr>\n",
       "      <th>R_emailloc</th>\n",
       "      <th></th>\n",
       "      <th></th>\n",
       "      <th></th>\n",
       "    </tr>\n",
       "  </thead>\n",
       "  <tbody>\n",
       "    <tr>\n",
       "      <th>es</th>\n",
       "      <td>0.118812</td>\n",
       "      <td>12.0</td>\n",
       "      <td>101</td>\n",
       "    </tr>\n",
       "    <tr>\n",
       "      <th>com</th>\n",
       "      <td>0.086553</td>\n",
       "      <td>1109.0</td>\n",
       "      <td>12813</td>\n",
       "    </tr>\n",
       "    <tr>\n",
       "      <th>com.mx</th>\n",
       "      <td>0.039370</td>\n",
       "      <td>10.0</td>\n",
       "      <td>254</td>\n",
       "    </tr>\n",
       "    <tr>\n",
       "      <th>na</th>\n",
       "      <td>0.020822</td>\n",
       "      <td>942.0</td>\n",
       "      <td>45240</td>\n",
       "    </tr>\n",
       "    <tr>\n",
       "      <th>net</th>\n",
       "      <td>0.007812</td>\n",
       "      <td>4.0</td>\n",
       "      <td>512</td>\n",
       "    </tr>\n",
       "    <tr>\n",
       "      <th>co.jp</th>\n",
       "      <td>0.000000</td>\n",
       "      <td>0.0</td>\n",
       "      <td>6</td>\n",
       "    </tr>\n",
       "    <tr>\n",
       "      <th>co.uk</th>\n",
       "      <td>0.000000</td>\n",
       "      <td>0.0</td>\n",
       "      <td>11</td>\n",
       "    </tr>\n",
       "    <tr>\n",
       "      <th>de</th>\n",
       "      <td>0.000000</td>\n",
       "      <td>0.0</td>\n",
       "      <td>52</td>\n",
       "    </tr>\n",
       "    <tr>\n",
       "      <th>edu</th>\n",
       "      <td>0.000000</td>\n",
       "      <td>0.0</td>\n",
       "      <td>3</td>\n",
       "    </tr>\n",
       "    <tr>\n",
       "      <th>fr</th>\n",
       "      <td>0.000000</td>\n",
       "      <td>0.0</td>\n",
       "      <td>40</td>\n",
       "    </tr>\n",
       "    <tr>\n",
       "      <th>net.mx</th>\n",
       "      <td>0.000000</td>\n",
       "      <td>0.0</td>\n",
       "      <td>22</td>\n",
       "    </tr>\n",
       "  </tbody>\n",
       "</table>\n",
       "</div>"
      ],
      "text/plain": [
       "                mean     sum  count\n",
       "R_emailloc                         \n",
       "es          0.118812    12.0    101\n",
       "com         0.086553  1109.0  12813\n",
       "com.mx      0.039370    10.0    254\n",
       "na          0.020822   942.0  45240\n",
       "net         0.007812     4.0    512\n",
       "co.jp       0.000000     0.0      6\n",
       "co.uk       0.000000     0.0     11\n",
       "de          0.000000     0.0     52\n",
       "edu         0.000000     0.0      3\n",
       "fr          0.000000     0.0     40\n",
       "net.mx      0.000000     0.0     22"
      ]
     },
     "execution_count": 71,
     "metadata": {},
     "output_type": "execute_result"
    }
   ],
   "source": [
    "train.groupby(['R_emailloc'])['isFraud'].agg(['mean', 'sum', 'count']).sort_values(by='mean', ascending=False)"
   ]
  },
  {
   "cell_type": "markdown",
   "metadata": {},
   "source": [
    "## Time Delta Features\n",
    "\n",
    "There are also several time delta features, these may contain important information."
   ]
  },
  {
   "cell_type": "code",
   "execution_count": 78,
   "metadata": {},
   "outputs": [],
   "source": [
    "delta_features = [x for x in train.columns if x[0]=='D' and len(x)==2]"
   ]
  },
  {
   "cell_type": "code",
   "execution_count": 79,
   "metadata": {},
   "outputs": [
    {
     "name": "stdout",
     "output_type": "stream",
     "text": [
      "['D1', 'D2', 'D3', 'D4', 'D5', 'D6', 'D7', 'D8', 'D9']\n"
     ]
    }
   ],
   "source": [
    "print(delta_features)"
   ]
  },
  {
   "cell_type": "code",
   "execution_count": 82,
   "metadata": {},
   "outputs": [
    {
     "data": {
      "text/plain": [
       "[<matplotlib.lines.Line2D at 0x19d82bf3ac8>]"
      ]
     },
     "execution_count": 82,
     "metadata": {},
     "output_type": "execute_result"
    },
    {
     "data": {
      "image/png": "[encoded data removed]",
      "text/plain": [
       "<Figure size 432x288 with 1 Axes>"
      ]
     },
     "metadata": {},
     "output_type": "display_data"
    }
   ],
   "source": [
    "isfraud_idx = train.isFraud==1\n",
    "feature_x = 'D1'\n",
    "feature_y = 'D2'\n",
    "plt.plot(train[~isfraud_idx][:1000][feature_x], train[~isfraud_idx][:1000][feature_y], 'o')\n",
    "plt.plot(train[isfraud_idx][feature_x],          train[isfraud_idx][feature_y], 'o')"
   ]
  },
  {
   "cell_type": "code",
   "execution_count": 83,
   "metadata": {},
   "outputs": [
    {
     "data": {
      "text/plain": [
       "[<matplotlib.lines.Line2D at 0x19d82e18f28>]"
      ]
     },
     "execution_count": 83,
     "metadata": {},
     "output_type": "execute_result"
    },
    {
     "data": {
      "image/png": "[encoded data removed]",
      "text/plain": [
       "<Figure size 432x288 with 1 Axes>"
      ]
     },
     "metadata": {},
     "output_type": "display_data"
    }
   ],
   "source": [
    "isfraud_idx = train.isFraud==1\n",
    "feature_x = 'D1'\n",
    "feature_y = 'D3'\n",
    "plt.plot(train[~isfraud_idx][:1000][feature_x], train[~isfraud_idx][:1000][feature_y], 'o')\n",
    "plt.plot(train[isfraud_idx][feature_x],          train[isfraud_idx][feature_y], 'o')"
   ]
  },
  {
   "cell_type": "code",
   "execution_count": 84,
   "metadata": {},
   "outputs": [
    {
     "data": {
      "text/plain": [
       "[<matplotlib.lines.Line2D at 0x19d82dcc6a0>]"
      ]
     },
     "execution_count": 84,
     "metadata": {},
     "output_type": "execute_result"
    },
    {
     "data": {
      "image/png": "[encoded data removed]",
      "text/plain": [
       "<Figure size 432x288 with 1 Axes>"
      ]
     },
     "metadata": {},
     "output_type": "display_data"
    }
   ],
   "source": [
    "isfraud_idx = train.isFraud==1\n",
    "feature_x = 'D1'\n",
    "feature_y = 'D4'\n",
    "plt.plot(train[~isfraud_idx][:1000][feature_x], train[~isfraud_idx][:1000][feature_y], 'o')\n",
    "plt.plot(train[isfraud_idx][feature_x],          train[isfraud_idx][feature_y], 'o')"
   ]
  },
  {
   "cell_type": "markdown",
   "metadata": {},
   "source": [
    "## Train Idenitification info"
   ]
  },
  {
   "cell_type": "code",
   "execution_count": 86,
   "metadata": {},
   "outputs": [
    {
     "name": "stdout",
     "output_type": "stream",
     "text": [
      "['id_01', 'id_02', 'id_03', 'id_04', 'id_05', 'id_06', 'id_07', 'id_08', 'id_09', 'id_10', 'id_11', 'id_12', 'id_13', 'id_14', 'id_15', 'id_16', 'id_17', 'id_18', 'id_19', 'id_20', 'id_21', 'id_22', 'id_23', 'id_24', 'id_25', 'id_26', 'id_27', 'id_28', 'id_29', 'id_30', 'id_31', 'id_32', 'id_33', 'id_34', 'id_35', 'id_36', 'id_37', 'id_38']\n"
     ]
    }
   ],
   "source": [
    "id_columns = [x for x in train.columns if x[:2]=='id']\n",
    "print(id_columns)"
   ]
  },
  {
   "cell_type": "code",
   "execution_count": 89,
   "metadata": {},
   "outputs": [
    {
     "data": {
      "text/html": [
       "<div>\n",
       "<style scoped>\n",
       "    .dataframe tbody tr th:only-of-type {\n",
       "        vertical-align: middle;\n",
       "    }\n",
       "\n",
       "    .dataframe tbody tr th {\n",
       "        vertical-align: top;\n",
       "    }\n",
       "\n",
       "    .dataframe thead th {\n",
       "        text-align: right;\n",
       "    }\n",
       "</style>\n",
       "<table border=\"1\" class=\"dataframe\">\n",
       "  <thead>\n",
       "    <tr style=\"text-align: right;\">\n",
       "      <th>TransactionID</th>\n",
       "      <th>3341098</th>\n",
       "      <th>3430535</th>\n",
       "      <th>3023054</th>\n",
       "      <th>3154848</th>\n",
       "      <th>3358675</th>\n",
       "    </tr>\n",
       "  </thead>\n",
       "  <tbody>\n",
       "    <tr>\n",
       "      <th>id_01</th>\n",
       "      <td>-20</td>\n",
       "      <td>-20</td>\n",
       "      <td>-10</td>\n",
       "      <td>-5</td>\n",
       "      <td>-25</td>\n",
       "    </tr>\n",
       "    <tr>\n",
       "      <th>id_02</th>\n",
       "      <td>87574</td>\n",
       "      <td>11803</td>\n",
       "      <td>70547</td>\n",
       "      <td>75264</td>\n",
       "      <td>614</td>\n",
       "    </tr>\n",
       "    <tr>\n",
       "      <th>id_03</th>\n",
       "      <td>0</td>\n",
       "      <td>0</td>\n",
       "      <td>0</td>\n",
       "      <td>0</td>\n",
       "      <td>0</td>\n",
       "    </tr>\n",
       "    <tr>\n",
       "      <th>id_04</th>\n",
       "      <td>0</td>\n",
       "      <td>0</td>\n",
       "      <td>0</td>\n",
       "      <td>0</td>\n",
       "      <td>0</td>\n",
       "    </tr>\n",
       "    <tr>\n",
       "      <th>id_05</th>\n",
       "      <td>11</td>\n",
       "      <td>6</td>\n",
       "      <td>19</td>\n",
       "      <td>-18</td>\n",
       "      <td>2</td>\n",
       "    </tr>\n",
       "    <tr>\n",
       "      <th>id_06</th>\n",
       "      <td>-32</td>\n",
       "      <td>-31</td>\n",
       "      <td>-11</td>\n",
       "      <td>-100</td>\n",
       "      <td>-59</td>\n",
       "    </tr>\n",
       "    <tr>\n",
       "      <th>id_07</th>\n",
       "      <td>23</td>\n",
       "      <td>18</td>\n",
       "      <td>22</td>\n",
       "      <td>2</td>\n",
       "      <td>6</td>\n",
       "    </tr>\n",
       "    <tr>\n",
       "      <th>id_08</th>\n",
       "      <td>-45</td>\n",
       "      <td>-100</td>\n",
       "      <td>-9</td>\n",
       "      <td>-54</td>\n",
       "      <td>-48</td>\n",
       "    </tr>\n",
       "    <tr>\n",
       "      <th>id_09</th>\n",
       "      <td>0</td>\n",
       "      <td>0</td>\n",
       "      <td>0</td>\n",
       "      <td>0</td>\n",
       "      <td>0</td>\n",
       "    </tr>\n",
       "    <tr>\n",
       "      <th>id_10</th>\n",
       "      <td>0</td>\n",
       "      <td>0</td>\n",
       "      <td>0</td>\n",
       "      <td>-29</td>\n",
       "      <td>0</td>\n",
       "    </tr>\n",
       "    <tr>\n",
       "      <th>id_11</th>\n",
       "      <td>100</td>\n",
       "      <td>100</td>\n",
       "      <td>100</td>\n",
       "      <td>100</td>\n",
       "      <td>100</td>\n",
       "    </tr>\n",
       "    <tr>\n",
       "      <th>id_12</th>\n",
       "      <td>Found</td>\n",
       "      <td>Found</td>\n",
       "      <td>NotFound</td>\n",
       "      <td>Found</td>\n",
       "      <td>Found</td>\n",
       "    </tr>\n",
       "    <tr>\n",
       "      <th>id_13</th>\n",
       "      <td>15</td>\n",
       "      <td>15</td>\n",
       "      <td>52</td>\n",
       "      <td>55</td>\n",
       "      <td>11</td>\n",
       "    </tr>\n",
       "    <tr>\n",
       "      <th>id_14</th>\n",
       "      <td>-300</td>\n",
       "      <td>-300</td>\n",
       "      <td>-360</td>\n",
       "      <td>-300</td>\n",
       "      <td>-300</td>\n",
       "    </tr>\n",
       "    <tr>\n",
       "      <th>id_15</th>\n",
       "      <td>Found</td>\n",
       "      <td>Found</td>\n",
       "      <td>Found</td>\n",
       "      <td>Found</td>\n",
       "      <td>Found</td>\n",
       "    </tr>\n",
       "    <tr>\n",
       "      <th>id_16</th>\n",
       "      <td>Found</td>\n",
       "      <td>Found</td>\n",
       "      <td>Found</td>\n",
       "      <td>Found</td>\n",
       "      <td>Found</td>\n",
       "    </tr>\n",
       "    <tr>\n",
       "      <th>id_17</th>\n",
       "      <td>166</td>\n",
       "      <td>166</td>\n",
       "      <td>166</td>\n",
       "      <td>166</td>\n",
       "      <td>166</td>\n",
       "    </tr>\n",
       "    <tr>\n",
       "      <th>id_18</th>\n",
       "      <td>12</td>\n",
       "      <td>12</td>\n",
       "      <td>13</td>\n",
       "      <td>13</td>\n",
       "      <td>13</td>\n",
       "    </tr>\n",
       "    <tr>\n",
       "      <th>id_19</th>\n",
       "      <td>317</td>\n",
       "      <td>317</td>\n",
       "      <td>551</td>\n",
       "      <td>189</td>\n",
       "      <td>122</td>\n",
       "    </tr>\n",
       "    <tr>\n",
       "      <th>id_20</th>\n",
       "      <td>549</td>\n",
       "      <td>222</td>\n",
       "      <td>299</td>\n",
       "      <td>500</td>\n",
       "      <td>146</td>\n",
       "    </tr>\n",
       "    <tr>\n",
       "      <th>id_21</th>\n",
       "      <td>252</td>\n",
       "      <td>252</td>\n",
       "      <td>566</td>\n",
       "      <td>249</td>\n",
       "      <td>252</td>\n",
       "    </tr>\n",
       "    <tr>\n",
       "      <th>id_22</th>\n",
       "      <td>14</td>\n",
       "      <td>14</td>\n",
       "      <td>14</td>\n",
       "      <td>14</td>\n",
       "      <td>14</td>\n",
       "    </tr>\n",
       "    <tr>\n",
       "      <th>id_23</th>\n",
       "      <td>IP_PROXY:TRANSPARENT</td>\n",
       "      <td>IP_PROXY:TRANSPARENT</td>\n",
       "      <td>IP_PROXY:TRANSPARENT</td>\n",
       "      <td>IP_PROXY:TRANSPARENT</td>\n",
       "      <td>IP_PROXY:TRANSPARENT</td>\n",
       "    </tr>\n",
       "    <tr>\n",
       "      <th>id_24</th>\n",
       "      <td>15</td>\n",
       "      <td>11</td>\n",
       "      <td>11</td>\n",
       "      <td>15</td>\n",
       "      <td>11</td>\n",
       "    </tr>\n",
       "    <tr>\n",
       "      <th>id_25</th>\n",
       "      <td>321</td>\n",
       "      <td>321</td>\n",
       "      <td>245</td>\n",
       "      <td>492</td>\n",
       "      <td>321</td>\n",
       "    </tr>\n",
       "    <tr>\n",
       "      <th>id_26</th>\n",
       "      <td>184</td>\n",
       "      <td>161</td>\n",
       "      <td>185</td>\n",
       "      <td>182</td>\n",
       "      <td>161</td>\n",
       "    </tr>\n",
       "    <tr>\n",
       "      <th>id_27</th>\n",
       "      <td>Found</td>\n",
       "      <td>Found</td>\n",
       "      <td>Found</td>\n",
       "      <td>Found</td>\n",
       "      <td>Found</td>\n",
       "    </tr>\n",
       "    <tr>\n",
       "      <th>id_28</th>\n",
       "      <td>Found</td>\n",
       "      <td>Found</td>\n",
       "      <td>Found</td>\n",
       "      <td>Found</td>\n",
       "      <td>Found</td>\n",
       "    </tr>\n",
       "    <tr>\n",
       "      <th>id_29</th>\n",
       "      <td>Found</td>\n",
       "      <td>Found</td>\n",
       "      <td>Found</td>\n",
       "      <td>Found</td>\n",
       "      <td>Found</td>\n",
       "    </tr>\n",
       "    <tr>\n",
       "      <th>id_30</th>\n",
       "      <td>iOS 11.2.5</td>\n",
       "      <td>Linux</td>\n",
       "      <td>Windows 10</td>\n",
       "      <td>Windows 7</td>\n",
       "      <td>Linux</td>\n",
       "    </tr>\n",
       "    <tr>\n",
       "      <th>id_31</th>\n",
       "      <td>mobile safari generic</td>\n",
       "      <td>chrome 65.0</td>\n",
       "      <td>chrome 63.0</td>\n",
       "      <td>ie 11.0 for desktop</td>\n",
       "      <td>chrome generic</td>\n",
       "    </tr>\n",
       "    <tr>\n",
       "      <th>id_32</th>\n",
       "      <td>32</td>\n",
       "      <td>24</td>\n",
       "      <td>24</td>\n",
       "      <td>24</td>\n",
       "      <td>24</td>\n",
       "    </tr>\n",
       "    <tr>\n",
       "      <th>id_33</th>\n",
       "      <td>1334x750</td>\n",
       "      <td>2560x1440</td>\n",
       "      <td>1366x768</td>\n",
       "      <td>1600x900</td>\n",
       "      <td>1920x1080</td>\n",
       "    </tr>\n",
       "    <tr>\n",
       "      <th>id_34</th>\n",
       "      <td>match_status:1</td>\n",
       "      <td>match_status:2</td>\n",
       "      <td>match_status:2</td>\n",
       "      <td>match_status:2</td>\n",
       "      <td>match_status:2</td>\n",
       "    </tr>\n",
       "    <tr>\n",
       "      <th>id_35</th>\n",
       "      <td>T</td>\n",
       "      <td>T</td>\n",
       "      <td>T</td>\n",
       "      <td>T</td>\n",
       "      <td>T</td>\n",
       "    </tr>\n",
       "    <tr>\n",
       "      <th>id_36</th>\n",
       "      <td>F</td>\n",
       "      <td>F</td>\n",
       "      <td>F</td>\n",
       "      <td>T</td>\n",
       "      <td>F</td>\n",
       "    </tr>\n",
       "    <tr>\n",
       "      <th>id_37</th>\n",
       "      <td>T</td>\n",
       "      <td>T</td>\n",
       "      <td>T</td>\n",
       "      <td>T</td>\n",
       "      <td>T</td>\n",
       "    </tr>\n",
       "    <tr>\n",
       "      <th>id_38</th>\n",
       "      <td>T</td>\n",
       "      <td>T</td>\n",
       "      <td>T</td>\n",
       "      <td>T</td>\n",
       "      <td>T</td>\n",
       "    </tr>\n",
       "  </tbody>\n",
       "</table>\n",
       "</div>"
      ],
      "text/plain": [
       "TransactionID                3341098               3430535  \\\n",
       "id_01                            -20                   -20   \n",
       "id_02                          87574                 11803   \n",
       "id_03                              0                     0   \n",
       "id_04                              0                     0   \n",
       "id_05                             11                     6   \n",
       "id_06                            -32                   -31   \n",
       "id_07                             23                    18   \n",
       "id_08                            -45                  -100   \n",
       "id_09                              0                     0   \n",
       "id_10                              0                     0   \n",
       "id_11                            100                   100   \n",
       "id_12                          Found                 Found   \n",
       "id_13                             15                    15   \n",
       "id_14                           -300                  -300   \n",
       "id_15                          Found                 Found   \n",
       "id_16                          Found                 Found   \n",
       "id_17                            166                   166   \n",
       "id_18                             12                    12   \n",
       "id_19                            317                   317   \n",
       "id_20                            549                   222   \n",
       "id_21                            252                   252   \n",
       "id_22                             14                    14   \n",
       "id_23           IP_PROXY:TRANSPARENT  IP_PROXY:TRANSPARENT   \n",
       "id_24                             15                    11   \n",
       "id_25                            321                   321   \n",
       "id_26                            184                   161   \n",
       "id_27                          Found                 Found   \n",
       "id_28                          Found                 Found   \n",
       "id_29                          Found                 Found   \n",
       "id_30                     iOS 11.2.5                 Linux   \n",
       "id_31          mobile safari generic           chrome 65.0   \n",
       "id_32                             32                    24   \n",
       "id_33                       1334x750             2560x1440   \n",
       "id_34                 match_status:1        match_status:2   \n",
       "id_35                              T                     T   \n",
       "id_36                              F                     F   \n",
       "id_37                              T                     T   \n",
       "id_38                              T                     T   \n",
       "\n",
       "TransactionID               3023054               3154848  \\\n",
       "id_01                           -10                    -5   \n",
       "id_02                         70547                 75264   \n",
       "id_03                             0                     0   \n",
       "id_04                             0                     0   \n",
       "id_05                            19                   -18   \n",
       "id_06                           -11                  -100   \n",
       "id_07                            22                     2   \n",
       "id_08                            -9                   -54   \n",
       "id_09                             0                     0   \n",
       "id_10                             0                   -29   \n",
       "id_11                           100                   100   \n",
       "id_12                      NotFound                 Found   \n",
       "id_13                            52                    55   \n",
       "id_14                          -360                  -300   \n",
       "id_15                         Found                 Found   \n",
       "id_16                         Found                 Found   \n",
       "id_17                           166                   166   \n",
       "id_18                            13                    13   \n",
       "id_19                           551                   189   \n",
       "id_20                           299                   500   \n",
       "id_21                           566                   249   \n",
       "id_22                            14                    14   \n",
       "id_23          IP_PROXY:TRANSPARENT  IP_PROXY:TRANSPARENT   \n",
       "id_24                            11                    15   \n",
       "id_25                           245                   492   \n",
       "id_26                           185                   182   \n",
       "id_27                         Found                 Found   \n",
       "id_28                         Found                 Found   \n",
       "id_29                         Found                 Found   \n",
       "id_30                    Windows 10             Windows 7   \n",
       "id_31                   chrome 63.0   ie 11.0 for desktop   \n",
       "id_32                            24                    24   \n",
       "id_33                      1366x768              1600x900   \n",
       "id_34                match_status:2        match_status:2   \n",
       "id_35                             T                     T   \n",
       "id_36                             F                     T   \n",
       "id_37                             T                     T   \n",
       "id_38                             T                     T   \n",
       "\n",
       "TransactionID               3358675  \n",
       "id_01                           -25  \n",
       "id_02                           614  \n",
       "id_03                             0  \n",
       "id_04                             0  \n",
       "id_05                             2  \n",
       "id_06                           -59  \n",
       "id_07                             6  \n",
       "id_08                           -48  \n",
       "id_09                             0  \n",
       "id_10                             0  \n",
       "id_11                           100  \n",
       "id_12                         Found  \n",
       "id_13                            11  \n",
       "id_14                          -300  \n",
       "id_15                         Found  \n",
       "id_16                         Found  \n",
       "id_17                           166  \n",
       "id_18                            13  \n",
       "id_19                           122  \n",
       "id_20                           146  \n",
       "id_21                           252  \n",
       "id_22                            14  \n",
       "id_23          IP_PROXY:TRANSPARENT  \n",
       "id_24                            11  \n",
       "id_25                           321  \n",
       "id_26                           161  \n",
       "id_27                         Found  \n",
       "id_28                         Found  \n",
       "id_29                         Found  \n",
       "id_30                         Linux  \n",
       "id_31                chrome generic  \n",
       "id_32                            24  \n",
       "id_33                     1920x1080  \n",
       "id_34                match_status:2  \n",
       "id_35                             T  \n",
       "id_36                             F  \n",
       "id_37                             T  \n",
       "id_38                             T  "
      ]
     },
     "execution_count": 89,
     "metadata": {},
     "output_type": "execute_result"
    }
   ],
   "source": [
    "train[id_columns].dropna().head(5).T"
   ]
  },
  {
   "cell_type": "markdown",
   "metadata": {},
   "source": [
    "### Device Type counts"
   ]
  },
  {
   "cell_type": "code",
   "execution_count": 794,
   "metadata": {},
   "outputs": [
    {
     "data": {
      "text/plain": [
       "<matplotlib.axes._subplots.AxesSubplot at 0x298cea082b0>"
      ]
     },
     "execution_count": 794,
     "metadata": {},
     "output_type": "execute_result"
    },
    {
     "data": {
      "image/png": "[encoded data removed]",
      "text/plain": [
       "<Figure size 432x288 with 1 Axes>"
      ]
     },
     "metadata": {},
     "output_type": "display_data"
    }
   ],
   "source": [
    "idf['DeviceType'].value_counts().plot.bar()"
   ]
  },
  {
   "cell_type": "markdown",
   "metadata": {},
   "source": [
    "## Device Info Cleaning\n",
    "We also have device info, but there are a lot of categories, and it would be helpful to reduce the number of categories. This is important for one-hot-encoding. (Although I didn't end up using this feature.)"
   ]
  },
  {
   "cell_type": "code",
   "execution_count": 104,
   "metadata": {},
   "outputs": [],
   "source": [
    "def clean_device_info(x):\n",
    "    if x[:2]=='SM':\n",
    "        return 'Samsung'\n",
    "    elif x[:3] == 'rv:':\n",
    "        return 'Windows NT'\n",
    "    elif 'huawei' in x.lower():\n",
    "        return 'Huawei'\n",
    "    elif x[:2] == 'LG':\n",
    "        return 'LG'  \n",
    "    elif 'SAMSUNG' in x:\n",
    "        return 'Samsung'\n",
    "    elif x[:4] == 'Moto':\n",
    "        return 'Moto'\n",
    "    elif x[:3] == 'HTC':\n",
    "        return 'HTC'\n",
    "    elif 'blade' in x.lower():\n",
    "        return 'Blade'\n",
    "    elif x!='nan':\n",
    "        return 'Other'\n",
    "    else:\n",
    "        return x\n",
    "    \n",
    "train['DeviceInfo'] = train['DeviceInfo'].astype(str)\n",
    "train['clean_DeviceInfo'] = train['DeviceInfo'].apply(clean_device_info)"
   ]
  },
  {
   "cell_type": "markdown",
   "metadata": {},
   "source": [
    "Unfortunately even with the cleaning and grouping, there are still far more in other. More cleaning is needed here."
   ]
  },
  {
   "cell_type": "code",
   "execution_count": 106,
   "metadata": {},
   "outputs": [
    {
     "data": {
      "text/plain": [
       "<matplotlib.axes._subplots.AxesSubplot at 0x19d8a732898>"
      ]
     },
     "execution_count": 106,
     "metadata": {},
     "output_type": "execute_result"
    },
    {
     "data": {
      "image/png": "[encoded data removed]",
      "text/plain": [
       "<Figure size 432x288 with 1 Axes>"
      ]
     },
     "metadata": {},
     "output_type": "display_data"
    }
   ],
   "source": [
    "train[train['clean_DeviceInfo']!='nan']['clean_DeviceInfo'].value_counts()[:20].plot.bar()"
   ]
  },
  {
   "cell_type": "markdown",
   "metadata": {},
   "source": [
    "### Match status\n",
    "\n",
    "I assume match status is based on some aspects of the provided information or device used. I think this might be very important since I assume fradulent transactions will not have the same match status as valid transactions."
   ]
  },
  {
   "cell_type": "code",
   "execution_count": 109,
   "metadata": {},
   "outputs": [
    {
     "data": {
      "text/plain": [
       "match_status:2    5946\n",
       "match_status:1    1713\n",
       "match_status:0      40\n",
       "Name: id_34, dtype: int64"
      ]
     },
     "execution_count": 109,
     "metadata": {},
     "output_type": "execute_result"
    }
   ],
   "source": [
    "train['id_34'].value_counts()"
   ]
  },
  {
   "cell_type": "code",
   "execution_count": 113,
   "metadata": {},
   "outputs": [
    {
     "data": {
      "text/plain": [
       "id_28  id_29     id_34         \n",
       "Found  Found     match_status:0       27\n",
       "                 match_status:1      432\n",
       "                 match_status:2     3793\n",
       "                 na                 3178\n",
       "       NotFound  match_status:0        1\n",
       "                 match_status:1        2\n",
       "                 match_status:2       98\n",
       "                 na                   24\n",
       "New    NotFound  match_status:0       12\n",
       "                 match_status:1     1279\n",
       "                 match_status:2     2055\n",
       "                 na                 3230\n",
       "na     na        na                44923\n",
       "dtype: int64"
      ]
     },
     "execution_count": 113,
     "metadata": {},
     "output_type": "execute_result"
    }
   ],
   "source": [
    "match_columns = ['id_28', 'id_29', 'id_34']\n",
    "train[match_columns].fillna('na').groupby(match_columns).apply(len)"
   ]
  },
  {
   "cell_type": "markdown",
   "metadata": {},
   "source": [
    "## Transaction Amount\n",
    "\n",
    "From what other Kaggler's recommended, transaction amount is important."
   ]
  },
  {
   "cell_type": "code",
   "execution_count": 125,
   "metadata": {},
   "outputs": [
    {
     "data": {
      "image/png": "[encoded data removed]",
      "text/plain": [
       "<Figure size 432x288 with 1 Axes>"
      ]
     },
     "metadata": {},
     "output_type": "display_data"
    }
   ],
   "source": [
    "low_transactionamt = train['TransactionAmt']<10000\n",
    "fraud = train.isFraud==1\n",
    "sns.kdeplot(train[~fraud & low_transactionamt]['TransactionAmt'], label='Valid')\n",
    "sns.kdeplot(train[fraud & low_transactionamt]['TransactionAmt'], label='Fraud')\n",
    "plt.show()"
   ]
  },
  {
   "cell_type": "markdown",
   "metadata": {},
   "source": [
    "There does not appear to be much difference in the amounts of fraudulent and valid transactions. "
   ]
  },
  {
   "cell_type": "markdown",
   "metadata": {},
   "source": [
    "One hint from other Kagglers is that the amount of cents is an important feature.  The figure below shows that the distribuion of cents between fradulent and valid transactions is different, which means there is useful predictive information in this feature."
   ]
  },
  {
   "cell_type": "code",
   "execution_count": 122,
   "metadata": {},
   "outputs": [
    {
     "data": {
      "text/plain": [
       "<matplotlib.axes._subplots.AxesSubplot at 0x19d8a929cc0>"
      ]
     },
     "execution_count": 122,
     "metadata": {},
     "output_type": "execute_result"
    },
    {
     "data": {
      "image/png": "[encoded data removed]",
      "text/plain": [
       "<Figure size 432x288 with 1 Axes>"
      ]
     },
     "metadata": {},
     "output_type": "display_data"
    }
   ],
   "source": [
    "sns.kdeplot(train[train.isFraud==0]['TransactionAmt'] % 1, label='Valid')\n",
    "sns.kdeplot(train[train.isFraud==1]['TransactionAmt'] % 1, label='Fraud')"
   ]
  }
 ],
 "metadata": {
  "kernelspec": {
   "display_name": "Python 3",
   "language": "python",
   "name": "python3"
  },
  "language_info": {
   "codemirror_mode": {
    "name": "ipython",
    "version": 3
   },
   "file_extension": ".py",
   "mimetype": "text/x-python",
   "name": "python",
   "nbconvert_exporter": "python",
   "pygments_lexer": "ipython3",
   "version": "3.6.5"
  }
 },
 "nbformat": 4,
 "nbformat_minor": 2
}
