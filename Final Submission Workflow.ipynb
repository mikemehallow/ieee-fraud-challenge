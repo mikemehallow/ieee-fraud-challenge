{
 "cells": [
  {
   "cell_type": "markdown",
   "metadata": {},
   "source": [
    "# IEEE Fraud Detection \n",
    "\n",
    "By: Michael Mehallow\n",
    "\n",
    "With support from other Kernels from Kaggle.com\n",
    "\n",
    "This represents all the necessary steps to create final submission which had the highest Private LB score of my submissions."
   ]
  },
  {
   "cell_type": "code",
   "execution_count": 1,
   "metadata": {},
   "outputs": [],
   "source": [
    "import pandas as pd\n",
    "import numpy as np\n",
    "import matplotlib.pyplot as plt\n",
    "import seaborn as sns\n",
    "import category_encoders as ce\n",
    "import time\n",
    "import pickle\n",
    "from sklearn.preprocessing import LabelEncoder"
   ]
  },
  {
   "cell_type": "markdown",
   "metadata": {},
   "source": [
    "Create function to reduce memory usage"
   ]
  },
  {
   "cell_type": "code",
   "execution_count": 7,
   "metadata": {},
   "outputs": [],
   "source": [
    "def my_reduce_memory_usage(df):\n",
    "    for col in df.columns:\n",
    "        # Get columns data type\n",
    "        c_type = df[col].dtype\n",
    "        \n",
    "        # Only run this section if c_type is an integer\n",
    "        if str(c_type)[:3] == 'int':\n",
    "            c_min = df[col].min()\n",
    "            c_max = df[col].max()\n",
    "\n",
    "            if c_min >= np.iinfo('int8').min & c_max <= np.iinfo('int8').max:\n",
    "                df[col] = df[col].astype('int8')\n",
    "            elif c_min >= np.iinfo('int16').min & c_max <= np.iinfo('int16').max:\n",
    "                df[col] = df[col].astype('int16')\n",
    "            elif c_min >= np.iinfo('int32').min & c_max <= np.iinfo('int32').max: \n",
    "                df[col] = df[col].astype('int32')\n",
    "                \n",
    "        # Run this section to convert floats\n",
    "        elif str(c_type)[:5] == 'float':\n",
    "            c_min = df[col].min()\n",
    "            c_max = df[col].max()\n",
    "\n",
    "            if (c_min >= np.finfo('float16').min) & (c_max <= np.finfo('float16').max):\n",
    "                df[col] = df[col].astype('float16')\n",
    "            elif (c_min >= np.finfo('float32').min) & (c_max <= np.finfo('float32').max): \n",
    "                df[col] = df[col].astype('float32')\n",
    "\n",
    "    return df"
   ]
  },
  {
   "cell_type": "markdown",
   "metadata": {},
   "source": [
    "Read and reduce memory of train and test data"
   ]
  },
  {
   "cell_type": "code",
   "execution_count": 8,
   "metadata": {},
   "outputs": [
    {
     "name": "stdout",
     "output_type": "stream",
     "text": [
      "Train Identity Elapsed time : 3.0520572662353516\n",
      "Train Elapsed time : 247.04404544830322\n",
      "Elapsed time : 489.0864336490631\n"
     ]
    }
   ],
   "source": [
    "start = time.time()\n",
    "train_identity = my_reduce_memory_usage(pd.read_csv('train_identity.csv', index_col='TransactionID'))\n",
    "end = time.time()\n",
    "print('Train Identity Elapsed time : ' + str(end-start))\n",
    "\n",
    "train_transaction = my_reduce_memory_usage(pd.read_csv('train_transaction.csv', index_col='TransactionID'))\n",
    "end = time.time()\n",
    "print('Train Elapsed time : ' + str(end-start))\n",
    "\n",
    "test_identity = my_reduce_memory_usage(pd.read_csv('test_identity.csv', index_col='TransactionID'))\n",
    "test_transaction = my_reduce_memory_usage(pd.read_csv('test_transaction.csv', index_col='TransactionID'))\n",
    "end = time.time()\n",
    "\n",
    "print('Elapsed time : ' + str(end-start))"
   ]
  },
  {
   "cell_type": "code",
   "execution_count": 10,
   "metadata": {},
   "outputs": [],
   "source": [
    "train = train_transaction.merge(train_identity, how='left', left_index=True, right_index=True)\n",
    "y_train = train['isFraud']\n",
    "test = test_transaction.merge(test_identity, how='left', left_index=True, right_index=True)"
   ]
  },
  {
   "cell_type": "code",
   "execution_count": 3,
   "metadata": {},
   "outputs": [],
   "source": [
    "# Uncomment to overwrite pickle!!!\n",
    "# with open('train_test.pickle', 'wb') as f:\n",
    "#    pickle.dump([train, y_train, test], f)\n",
    "\n",
    "# Leave this as is below to read pickle!!!\n",
    "# open a file, where you stored the pickled data\n",
    "file = open('train_test.pickle', 'rb')\n",
    "train, y_train, test = pickle.load(file)    "
   ]
  },
  {
   "cell_type": "markdown",
   "metadata": {},
   "source": [
    "## Feature Engineering"
   ]
  },
  {
   "cell_type": "code",
   "execution_count": 4,
   "metadata": {},
   "outputs": [],
   "source": [
    "# Get Target encode information\n",
    "targets = {}\n",
    "\n",
    "for col in ['P_emaildomain', 'R_emaildomain', 'addr1', 'addr2', 'id_19', 'id_20']:\n",
    "    targets[col] = train.groupby([col])['isFraud'].mean()"
   ]
  },
  {
   "cell_type": "markdown",
   "metadata": {},
   "source": [
    "Target encode based on card1 and D1\n",
    "\n",
    "card1 actually represents an account, and can have multiple clients or individual users. Fraud is detected for individual user, thus it is important to group by card1 and D1.\n",
    "\n",
    "Post Competition: A better way would be to use card1, addr1 and D1 all combined. In addition, if I had more time I would frequency encode based on this."
   ]
  },
  {
   "cell_type": "code",
   "execution_count": 5,
   "metadata": {},
   "outputs": [],
   "source": [
    "train['Day'] = train['TransactionDT'] / 86400 \n",
    "train['D1_Id'] = ((train['D1']// 1 - train['Day']// 1)).fillna(-9999)\n",
    "\n",
    "targets['card1_D1_Id'] = train.groupby(['card1', 'D1_Id'])['isFraud'].mean()"
   ]
  },
  {
   "cell_type": "markdown",
   "metadata": {},
   "source": [
    "Combine test and train data sets"
   ]
  },
  {
   "cell_type": "code",
   "execution_count": 6,
   "metadata": {},
   "outputs": [],
   "source": [
    "# Combine test and train data sets\n",
    "feature_cols = test.columns\n",
    "df = pd.concat([train[feature_cols], test[feature_cols]], axis=0).copy()"
   ]
  },
  {
   "cell_type": "code",
   "execution_count": 7,
   "metadata": {},
   "outputs": [],
   "source": [
    "# Uncomment to overwrite pickle!!!\n",
    "# Determine columns to keep based on percent of nulls, and other factors\n",
    "#too_many_nulls_cols = [col for col in df.columns if df[col].isna().mean() > 0.9]\n",
    "#big_top_value_cols = [col for col in df.columns if df[col].value_counts(dropna=False, normalize=True).values[0] > 0.9]\n",
    "#\n",
    "#cols_to_drop = too_many_nulls_cols + big_top_value_cols\n",
    "#cols_to_keep = [x for x in df.columns if x not in cols_to_drop]\n",
    "#\n",
    "#with open('keep_drop_cols.pickle', 'wb') as f:\n",
    "#    pickle.dump([cols_to_keep, cols_to_drop], f)\n",
    "\n",
    "# Leave this as is below to read pickle!!!\n",
    "# open a file, where you stored the pickled data\n",
    "file = open('keep_drop_cols.pickle', 'rb')\n",
    "cols_to_keep, cols_to_drop = pickle.load(file)    "
   ]
  },
  {
   "cell_type": "markdown",
   "metadata": {},
   "source": [
    "## Data Pipeline\n",
    "This includes cleaning and frequency engineering.\n",
    "### BE VERY CAREFUL HERE"
   ]
  },
  {
   "cell_type": "code",
   "execution_count": 8,
   "metadata": {},
   "outputs": [],
   "source": [
    "def freq_encoder(df):\n",
    "    num_rows = len(df)\n",
    "    fq_encode = (df.value_counts(dropna=False) / num_rows).to_dict()\n",
    "    df = df.map(fq_encode)\n",
    "    return df"
   ]
  },
  {
   "cell_type": "markdown",
   "metadata": {},
   "source": [
    "Fill missing or null values"
   ]
  },
  {
   "cell_type": "code",
   "execution_count": 9,
   "metadata": {},
   "outputs": [],
   "source": [
    "start = time.time()\n",
    "#df = df.drop(columns = cols_to_drop)\n",
    "\n",
    "df['ProductCD'] = df['ProductCD'].fillna('W')\n",
    "\n",
    "df['card4'] = df['card4'].fillna('na')\n",
    "df['card4'] = df['card4'].fillna('na')\n",
    "df['card4'] = df['card4'].fillna('na')\n",
    "df['card6'] = df['card6'].fillna('debit')\n",
    "\n",
    "# Set missing values for vesta columns\n",
    "vesta_columns = [x for x in df.columns if x[0]=='V']  \n",
    "for feature in vesta_columns:\n",
    "    df[feature] = df[feature].fillna(-999) \n",
    "\n",
    "d_fills = {'D1' : 4, 'D2' : 0,\n",
    "           'D3' : 8, 'D4' : 23,\n",
    "           'D5' : 9, 'D6' : 0,\n",
    "           'D7' : 0, 'D8' : 37.78,\n",
    "           'D9' : 0.665, 'D10' : 13,\n",
    "           'D11' : 69, 'D12' : 0,\n",
    "           'D13' : 0, 'D14' : 0, 'D15' : 50}\n",
    "\n",
    "delta_columns = ['D1', 'D2', 'D3', 'D4', 'D5', 'D6', 'D8', 'D9', 'D10', 'D11', 'D12', 'D13', 'D14', 'D15']\n",
    "for feature in delta_columns:\n",
    "     df[feature] = df[feature].fillna(d_fills[feature])   \n",
    "        \n",
    "# Impute missing values for id columsn\n",
    "df['id_01'] = df['id_01'].fillna(99)"
   ]
  },
  {
   "cell_type": "markdown",
   "metadata": {},
   "source": [
    "Frequency encode C columns"
   ]
  },
  {
   "cell_type": "code",
   "execution_count": 11,
   "metadata": {},
   "outputs": [],
   "source": [
    "# Frequency Encode C columns\n",
    "C_freq_encode_cols = ['C1', 'C2', 'C4', 'C5', 'C6', 'C7', 'C8', 'C9', 'C10', 'C11', 'C12', 'C13', 'C14']\n",
    "num_rows = len(df)\n",
    "for col in C_freq_encode_cols:\n",
    "    fq_encode = (df[col].value_counts(dropna=False) / num_rows).to_dict()   \n",
    "    df[col + '_fq_enc'] = df[col].map(fq_encode) #.astype('int8')\n",
    "\n",
    "C_freq_encoded_columns = [ x + '_fq_enc' for x in C_freq_encode_cols]      \n",
    "\n",
    "df['All_C_fq_enc_sum'] = df[C_freq_encoded_columns].sum(axis=1)#.astype('float32')"
   ]
  },
  {
   "cell_type": "markdown",
   "metadata": {},
   "source": [
    "Frequency encode C columns relative to card1"
   ]
  },
  {
   "cell_type": "code",
   "execution_count": 12,
   "metadata": {},
   "outputs": [],
   "source": [
    "C_freq_encoded_card1_columns = [ x + '_fq_enc_card1' for x in C_freq_encode_cols]\n",
    "\n",
    "## Frequency Encode C columns by card 1\n",
    "#for col in C_freq_encode_cols:\n",
    "#    df[col + '_fq_enc_card1'] = df.groupby(['card1'])[col].apply(freq_encoder)\n",
    "#\n",
    "#with open('C_fq_enc_sum_card1.pickle', 'wb') as f:\n",
    "#    pickle.dump(df[C_freq_encoded_card1_columns], f)\n",
    "\n",
    "# Read columns from pickle\n",
    "file = open('C_fq_enc_sum_card1.pickle', 'rb')\n",
    "C_freq_encoded_card1_df = pickle.load(file)\n",
    "\n",
    "df = df.merge(C_freq_encoded_card1_df, how='left', left_index=True, right_index=True)\n",
    "\n",
    "df['All_C_fq_enc_sum_card1'] = df[list(C_freq_encoded_card1_df.columns)].sum(axis=1) "
   ]
  },
  {
   "cell_type": "markdown",
   "metadata": {},
   "source": [
    "Frequency encode ID columns relative to card1"
   ]
  },
  {
   "cell_type": "code",
   "execution_count": 13,
   "metadata": {},
   "outputs": [],
   "source": [
    "id_card_freq_encode_cols = ['id_12', 'id_15', 'id_16', 'id_28', 'id_29']\n",
    "ID_freq_encoded_card1_columns = [ x + '_fq_enc_card1' for x in id_card_freq_encode_cols]\n",
    "\n",
    "## Frequency Encode ID columns by card 1\n",
    "#for col in id_card_freq_encode_cols:\n",
    "#     df[col + '_fq_enc_card1'] = df.groupby(['card1'])[col].apply(freq_encoder)\n",
    "        \n",
    "# Write columns to pickle\n",
    "#with open('ID_fq_enc_sum_card1.pickle', 'wb') as f:\n",
    "#    pickle.dump(df[ID_freq_encoded_card1_columns], f)\n",
    "\n",
    "# Read columns from pickle\n",
    "file = open('ID_fq_enc_sum_card1.pickle', 'rb')\n",
    "ID_freq_encoded_card1_df = pickle.load(file)\n",
    "df = df.merge(ID_freq_encoded_card1_df, how='left', left_index=True, right_index=True)\n",
    "\n",
    "df['All_ID_fq_enc_sum_card1'] = df[ID_freq_encoded_card1_columns].sum(axis=1)"
   ]
  },
  {
   "cell_type": "markdown",
   "metadata": {},
   "source": [
    "Frequency Encode ProductCD columns by card 1\n",
    "\n",
    "My theory is that if a user typically uses there card for a certain product type, then using it for another product type may be a fradulent transaction."
   ]
  },
  {
   "cell_type": "code",
   "execution_count": 14,
   "metadata": {},
   "outputs": [],
   "source": [
    "## Frequency Encode ProductCD columns by card 1\n",
    "#df['ProductCD_fq_enc_card1'] = df.groupby(['card1'])['ProductCD'].apply(freq_encoder)\n",
    "\n",
    "#with open('ProductCD_fq_enc_sum_card1.pickle', 'wb') as f:\n",
    "#    pickle.dump(df['ProductCD_fq_enc_card1'], f)\n",
    "\n",
    "# Read columns from pickle\n",
    "file = open('ProductCD_fq_enc_sum_card1.pickle', 'rb')\n",
    "df['ProductCD_fq_enc_card1'] = pickle.load(file)"
   ]
  },
  {
   "cell_type": "markdown",
   "metadata": {},
   "source": [
    "Calculate z score of transaction amount relative to card1"
   ]
  },
  {
   "cell_type": "code",
   "execution_count": 15,
   "metadata": {},
   "outputs": [],
   "source": [
    "#df['TransactionAmt_card1_mean'] = df.groupby(['card1'])['TransactionAmt'].transform('mean')\n",
    "#df['TransactionAmt_card1_std'] = df.groupby(['card1'])['TransactionAmt'].transform('std')\n",
    "#df['TransactionAmt_card1_z'] = (df['TransactionAmt'] - df['TransactionAmt_card1_mean']) / df['TransactionAmt_card1_std']\n",
    "\n",
    "#with open('TransactionAmt_z_card1.pickle', 'wb') as f:\n",
    "#    pickle.dump(df['TransactionAmt_card1_z'], f)\n",
    "\n",
    "file = open('TransactionAmt_z_card1.pickle', 'rb')\n",
    "TransactionAmt_card1_z_df = pickle.load(file)\n",
    "df['TransactionAmt_z_card1'] = TransactionAmt_card1_z_df\n",
    "df['TransactionAmt_z_card1'] = df['TransactionAmt_z_card1'].fillna(0)"
   ]
  },
  {
   "cell_type": "markdown",
   "metadata": {},
   "source": [
    "Calculate z score for transaction amount relative to addr1"
   ]
  },
  {
   "cell_type": "code",
   "execution_count": 21,
   "metadata": {},
   "outputs": [],
   "source": [
    "#df['TransactionAmt_addr1_mean'] = df.groupby(['addr1'])['TransactionAmt'].transform('mean')\n",
    "#df['TransactionAmt_addr1_std'] = df.groupby(['addr1'])['TransactionAmt'].transform('std')\n",
    "#df['TransactionAmt_addr1_z'] = (df['TransactionAmt'] - df['TransactionAmt_addr1_mean']) / df['TransactionAmt_addr1_std']\n",
    "\n",
    "# Write columns to pickle\n",
    "#with open('TransactionAmt_z_addr1.pickle', 'wb') as f:\n",
    "#    pickle.dump(df['TransactionAmt_addr1_z'], f)\n",
    "\n",
    "# Read columns from pickle\n",
    "file = open('TransactionAmt_z_addr1.pickle', 'rb')\n",
    "TransactionAmt_addr1_z_df = pickle.load(file)\n",
    "df['TransactionAmt_z_addr1'] = TransactionAmt_addr1_z_df\n",
    "df['TransactionAmt_z_addr1'] = df['TransactionAmt_z_addr1'].fillna(0)"
   ]
  },
  {
   "cell_type": "markdown",
   "metadata": {},
   "source": [
    "Clean device information field"
   ]
  },
  {
   "cell_type": "code",
   "execution_count": 16,
   "metadata": {},
   "outputs": [],
   "source": [
    "def clean_device_info(x):\n",
    "    if x[:2]=='SM':\n",
    "        return 'Samsung'\n",
    "    elif x[:3] == 'rv:':\n",
    "        return 'Windows NT'\n",
    "    elif 'huawei' in x.lower():\n",
    "        return 'Huawei'\n",
    "    elif x[:2] == 'LG':\n",
    "        return 'LG'  \n",
    "    elif 'SAMSUNG' in x:\n",
    "        return 'Samsung'\n",
    "    elif x[:4] == 'Moto':\n",
    "        return 'Moto'\n",
    "    elif x[:3] == 'HTC':\n",
    "        return 'HTC'\n",
    "    elif 'blade' in x.lower():\n",
    "        return 'Blade'\n",
    "    else:\n",
    "        return 'Other'\n",
    "    \n",
    "\n",
    "df['clean_DeviceInfo'] = df['DeviceInfo'].astype(str).apply(clean_device_info)"
   ]
  },
  {
   "cell_type": "markdown",
   "metadata": {},
   "source": [
    "Calculate z score for transaction amount relative to addr2"
   ]
  },
  {
   "cell_type": "code",
   "execution_count": 17,
   "metadata": {},
   "outputs": [],
   "source": [
    "#df['TransactionAmt_addr2_mean'] = df.groupby(['addr2'])['TransactionAmt'].transform('mean')\n",
    "#df['TransactionAmt_addr2_std'] = df.groupby(['addr2'])['TransactionAmt'].transform('std')\n",
    "#df['TransactionAmt_addr2_z'] = (df['TransactionAmt'] - df['TransactionAmt_addr2_mean']) / df['TransactionAmt_addr2_std']\n",
    "\n",
    "# Write columns to pickle\n",
    "#with open('TransactionAmt_z_addr2.pickle', 'wb') as f:\n",
    "#    pickle.dump(df['TransactionAmt_addr2_z'], f)\n",
    "\n",
    "# Read columns from pickle\n",
    "file = open('TransactionAmt_z_addr2.pickle', 'rb')\n",
    "TransactionAmt_addr2_z_df = pickle.load(file)\n",
    "df['TransactionAmt_z_addr2'] = TransactionAmt_addr2_z_df\n",
    "df['TransactionAmt_z_addr2'] = df['TransactionAmt_z_addr2'].fillna(0)"
   ]
  },
  {
   "cell_type": "markdown",
   "metadata": {},
   "source": [
    "### Datetime Features"
   ]
  },
  {
   "cell_type": "code",
   "execution_count": 18,
   "metadata": {},
   "outputs": [],
   "source": [
    "df['Day'] = (df['TransactionDT'] / 86400) // 1\n",
    "df['Transaction_day_of_week'] = np.floor((df['TransactionDT'] / (3600 * 24) - 1) % 7)\n",
    "\n",
    "df['Hour'] = df['TransactionDT'].apply(lambda x: x % 86400 // 3600)\n",
    "df['Hour'] = df['Hour'].fillna(0)\n",
    "\n",
    "df['D1_Id'] = (df['D1'] // 1 - df['Day']).fillna(-9999)"
   ]
  },
  {
   "cell_type": "code",
   "execution_count": 19,
   "metadata": {},
   "outputs": [],
   "source": [
    "#df['card1_count'] \n",
    "df['card1_count'] = df.groupby(['card1'])['TransactionDT'].transform(len)"
   ]
  },
  {
   "cell_type": "markdown",
   "metadata": {},
   "source": [
    "### Create feature table\n",
    "- Encode variables\n",
    "- Add features from df to be included in model"
   ]
  },
  {
   "cell_type": "code",
   "execution_count": 22,
   "metadata": {},
   "outputs": [
    {
     "name": "stdout",
     "output_type": "stream",
     "text": [
      "Encoding Time : 80.55943584442139\n"
     ]
    }
   ],
   "source": [
    "start = time.time()\n",
    "continuous_columns = ['TransactionAmt', 'card1', 'All_C_fq_enc_sum', 'All_C_fq_enc_sum_card1', 'All_ID_fq_enc_sum_card1', 'Day',\n",
    "                      'TransactionAmt_z_addr1', 'TransactionAmt_z_addr2', 'D1_Id']\n",
    "continuous_columns.extend(['id_01'])\n",
    "continuous_columns.extend(vesta_columns)\n",
    "continuous_columns.extend(delta_columns)\n",
    "continuous_columns.extend(C_freq_encoded_columns)\n",
    "continuous_columns.extend(C_freq_encoded_card1_columns)\n",
    "encoded = df[continuous_columns]\n",
    "\n",
    "encoder_dict = {}\n",
    "\n",
    "# Enocde categorical fields\n",
    "for feature in ['ProductCD', 'card4', 'card6', 'addr1', 'addr2', 'id_12', 'id_15', 'id_16', 'id_23', 'id_27', 'id_28', 'id_29',\n",
    "                'clean_DeviceInfo', 'Transaction_day_of_week']:\n",
    "    oh_ce = ce.OneHotEncoder()\n",
    "    oh_ce.fit(df[feature])\n",
    "    encoded_feature = oh_ce.transform(df[feature])\n",
    "\n",
    "    encoded = pd.concat([encoded, encoded_feature], axis=1)\n",
    "\n",
    "    encoder_dict[feature] = oh_ce\n",
    "\n",
    "# Device info\n",
    "#df['DeviceInfo'] = df['DeviceInfo'].fillna('unknown_device').str.lower()\n",
    "#df['DeviceInfo_manufacturer'] = df['DeviceInfo'].apply(clean_device_info)  \n",
    "\n",
    "# Frequency Encode Device Info\n",
    "#freq_encode_cols = ['DeviceInfo', 'DeviceInfo_manufacturer']\n",
    "#for col in freq_encode_cols:\n",
    "#    fq_encode = df['DeviceInfo'].value_counts(dropna=False).to_dict()   \n",
    "#    df[col + '_fq_enc'] = df[col].map(fq_encode)\n",
    "\n",
    "# Target encoding\n",
    "for feature in ['P_emaildomain', 'R_emaildomain', 'addr1', 'addr2', 'id_19', 'id_20']:\n",
    "    encoded[feature + '_target'] = df[feature].map(targets[feature]).fillna(0.01)\n",
    "\n",
    "# Encode M boolean fields\n",
    "for feature in ['M1', 'M2', 'M3', 'M5', 'M6', 'M7', 'M8', 'M9']:\n",
    "    encoded[feature] = df[feature].fillna(-1).apply(lambda x: 1 if x=='F' else 0).astype('int8')\n",
    "\n",
    "encoded['M4'] = df['M4'].fillna('M0').str[1:].astype('int8')\n",
    "\n",
    "encoded['M13_sum'] = encoded[['M1', 'M2', 'M3']].sum(axis=1).astype('int8')\n",
    "encoded['M59_sum'] = encoded[['M5', 'M6', 'M7', 'M8', 'M9']].sum(axis=1).astype('int8')\n",
    "encoded['M19_sum'] = encoded[['M1', 'M2', 'M3', 'M5', 'M6', 'M7', 'M8', 'M9']].sum(axis=1).astype('int8')\n",
    "\n",
    "print('Encoding Time : ' + str(time.time()-start))"
   ]
  },
  {
   "cell_type": "code",
   "execution_count": 389,
   "metadata": {},
   "outputs": [],
   "source": [
    "encoded['dist1'] = df['dist1'].fillna(-1999)\n",
    "encoded['dist2'] = df['dist2'].fillna(-1999)"
   ]
  },
  {
   "cell_type": "code",
   "execution_count": 360,
   "metadata": {},
   "outputs": [],
   "source": [
    "encoded['card1_D1_target'] = df[['card1', 'D1_Id']].merge(targets['card1_D1_Id'].reset_index(),\n",
    "                                 how='left',\n",
    "                                 left_on=['card1', 'D1_Id'],\n",
    "                                 right_on=['card1', 'D1_Id']) \\\n",
    "                                     .rename(columns={'isFraud':'card1_D1_target'}) \\\n",
    "                                     ['card1_D1_target']\n",
    "\n",
    "encoded['card1_D1_target'] = encoded['card1_D1_target'].fillna(0.001)"
   ]
  },
  {
   "cell_type": "code",
   "execution_count": 28,
   "metadata": {},
   "outputs": [],
   "source": [
    "encoded['TransactionAmt_z_card1'] = df['TransactionAmt_z_card1']\n",
    "encoded['ProductCD_fq_enc_card1'] = df['ProductCD_fq_enc_card1']"
   ]
  },
  {
   "cell_type": "code",
   "execution_count": 29,
   "metadata": {},
   "outputs": [],
   "source": [
    "encoded['id_12'] = df['id_12'].apply(lambda x: 1 if x=='Found' else (0 if x=='NotFound' else -1)).astype('int8')\n",
    "encoded['id_13'] = df['id_13'].fillna(-99)\n",
    "encoded['id_14'] = df['id_14'].fillna(-60*20)\n",
    "encoded['id_17'] = df['id_17'].fillna(-99)\n",
    "encoded['id_18'] = df['id_18'].fillna(-99)\n",
    "encoded['id_24'] = df['id_24'].fillna(-99)\n",
    "encoded['id_32'] = df['id_32'].fillna(-99)\n",
    "encoded['id_35'] = df['id_35'].apply(lambda x: 2 if x=='F' else (0 if x=='T' else 1)).astype('int8')\n",
    "encoded['id_36'] = df['id_36'].apply(lambda x: 2 if x=='F' else (0 if x=='T' else 1)).astype('int8')\n",
    "encoded['id_37'] = df['id_37'].apply(lambda x: 2 if x=='F' else (0 if x=='T' else 1)).astype('int8')\n",
    "encoded['id_38'] = df['id_38'].apply(lambda x: 2 if x=='F' else (0 if x=='T' else 1)).astype('int8')\n",
    "\n",
    "def id_34_encoding(x):\n",
    "    if x=='match_status:-1':\n",
    "        return -1\n",
    "    elif x=='match_status:0':\n",
    "        return 0\n",
    "    elif x=='match_status:1':\n",
    "        return 1\n",
    "    elif x=='match_status:2':\n",
    "        return 2\n",
    "    else:\n",
    "        return -99\n",
    "    \n",
    "encoded['id_34'] = df['id_34'].apply(id_34_encoding)"
   ]
  },
  {
   "cell_type": "code",
   "execution_count": 30,
   "metadata": {},
   "outputs": [],
   "source": [
    "encoding_cols = encoded.columns\n",
    "cols_to_exclude = ['card1_count', 'addr1', 'addr2', '30_Min_Window'] "
   ]
  },
  {
   "cell_type": "code",
   "execution_count": 31,
   "metadata": {},
   "outputs": [],
   "source": [
    "# Split train and test sets again\n",
    "P_train = encoded[:len(train)][[x for x in encoding_cols if x not in cols_to_exclude]]\n",
    "P_test = encoded[len(train):][[x for x in encoding_cols if x not in cols_to_exclude]]\n",
    "\n",
    "# Downsample negative values\n",
    "positive = P_train[train.isFraud==1]\n",
    "negative = P_train[train.isFraud==0].sample(frac=0.04)\n",
    "\n",
    "X = pd.concat([positive, negative]).sort_values(by='TransactionID')\n",
    "y = train.loc[X.index].isFraud\n",
    "\n",
    "# Create training and cross validation data set\n",
    "# Cross validation set will be last 20% of the data, split by date\n",
    "end_idx = int(len(X)*0.8)\n",
    "X_train_cv = X[:end_idx]\n",
    "y_train_cv = y[:end_idx]\n",
    "X_cv = X[end_idx:]\n",
    "y_cv = y[end_idx:]"
   ]
  },
  {
   "cell_type": "markdown",
   "metadata": {},
   "source": [
    "## End Data Pipeline"
   ]
  },
  {
   "cell_type": "markdown",
   "metadata": {},
   "source": [
    "## Model Tuning"
   ]
  },
  {
   "cell_type": "code",
   "execution_count": 32,
   "metadata": {},
   "outputs": [],
   "source": [
    "from sklearn.model_selection import cross_val_score\n",
    "from sklearn.ensemble import GradientBoostingClassifier\n",
    "from sklearn.metrics import roc_curve, auc"
   ]
  },
  {
   "cell_type": "markdown",
   "metadata": {},
   "source": [
    "### Train and cross validate model"
   ]
  },
  {
   "cell_type": "code",
   "execution_count": 33,
   "metadata": {},
   "outputs": [
    {
     "name": "stdout",
     "output_type": "stream",
     "text": [
      "Model Fit Processing Time : 269.49152755737305\n"
     ]
    },
    {
     "data": {
      "text/plain": [
       "Text(0.5,1,'Train AUC : 0.94324201564987 CV AUC : 0.9014974111267716')"
      ]
     },
     "execution_count": 33,
     "metadata": {},
     "output_type": "execute_result"
    },
    {
     "data": {
      "image/png": "[encoded data removed]",
      "text/plain": [
       "<Figure size 432x288 with 1 Axes>"
      ]
     },
     "metadata": {},
     "output_type": "display_data"
    }
   ],
   "source": [
    "# Define gradient boosting classifier\n",
    "gbc = GradientBoostingClassifier(max_depth=5,\n",
    "                                 n_estimators=200,\n",
    "                                 learning_rate=0.05,\n",
    "                                 subsample=0.9,\n",
    "                                 max_features='auto')\n",
    "\n",
    "start = time.time()\n",
    "gbc.fit(X_train_cv, y_train_cv)\n",
    "print('Model Fit Processing Time : ' + str(time.time()-start))\n",
    "y_predict = gbc.predict(X_train_cv)\n",
    "y_train_score = gbc.predict_proba(X_train_cv)\n",
    "y_cv_score = gbc.predict_proba(X_cv)\n",
    "\n",
    "fpr, tpr, _ = roc_curve(y_train_cv, y_train_score[:,1])\n",
    "train_auc = auc(fpr, tpr)\n",
    "plt.plot(fpr, tpr, label='Train')\n",
    "\n",
    "fpr, tpr, _ = roc_curve(y_cv, y_cv_score[:,1])\n",
    "cv_auc = auc(fpr, tpr)\n",
    "plt.plot(fpr, tpr, label='CV')\n",
    "\n",
    "plt.plot([0, 1], [0, 1], 'k--')\n",
    "plt.plot([0, 0, 1], [0, 1, 1], 'k')\n",
    "plt.title('Train AUC : ' + str(train_auc) + ' CV AUC : ' + str(cv_auc))"
   ]
  },
  {
   "cell_type": "code",
   "execution_count": 34,
   "metadata": {},
   "outputs": [
    {
     "data": {
      "text/plain": [
       "<matplotlib.axes._subplots.AxesSubplot at 0x1b305cba898>"
      ]
     },
     "execution_count": 34,
     "metadata": {},
     "output_type": "execute_result"
    },
    {
     "data": {
      "image/png": "[encoded data removed]",
      "text/plain": [
       "<Figure size 432x288 with 1 Axes>"
      ]
     },
     "metadata": {},
     "output_type": "display_data"
    }
   ],
   "source": [
    "gbc_fi = gbc.feature_importances_\n",
    "fi_dict = dict(zip(X_train_cv.columns, gbc_fi))\n",
    "fi_df = pd.DataFrame.from_dict(fi_dict, orient='index').rename(columns={0:'Importance'})\n",
    "fi_df.sort_values('Importance', ascending=False)[:30].plot.bar()"
   ]
  },
  {
   "cell_type": "markdown",
   "metadata": {},
   "source": [
    "Iteratively select top 300 most important columns and retrain model"
   ]
  },
  {
   "cell_type": "code",
   "execution_count": 35,
   "metadata": {},
   "outputs": [],
   "source": [
    "important_cols = list(fi_df.sort_values('Importance', ascending=False).index[:300])"
   ]
  },
  {
   "cell_type": "code",
   "execution_count": 36,
   "metadata": {},
   "outputs": [
    {
     "name": "stdout",
     "output_type": "stream",
     "text": [
      " Model Fit Processing Time : 185.54441833496094\n"
     ]
    },
    {
     "data": {
      "text/plain": [
       "Text(0.5,1,'Tain AUC : 0.9440318952722365 CV AUC : 0.9028160246720661')"
      ]
     },
     "execution_count": 36,
     "metadata": {},
     "output_type": "execute_result"
    },
    {
     "data": {
      "image/png": "[encoded data removed]",
      "text/plain": [
       "<Figure size 432x288 with 1 Axes>"
      ]
     },
     "metadata": {},
     "output_type": "display_data"
    }
   ],
   "source": [
    "gbc_2 = GradientBoostingClassifier(max_depth=5,\n",
    "                                 n_estimators=200,\n",
    "                                 learning_rate=0.05,\n",
    "                                 subsample=0.9,\n",
    "                                 max_features='auto')\n",
    "\n",
    "start = time.time()\n",
    "gbc_2.fit(X_train_cv[important_cols], y_train_cv)\n",
    "print(' Model Fit Processing Time : ' + str(time.time()-start))\n",
    "y_predict = gbc_2.predict(X_train_cv[important_cols])\n",
    "y_train_score = gbc_2.predict_proba(X_train_cv[important_cols])\n",
    "y_cv_score = gbc_2.predict_proba(X_cv[important_cols])\n",
    "\n",
    "fpr, tpr, _ = roc_curve(y_train_cv, y_train_score[:,1])\n",
    "train_auc = auc(fpr, tpr)\n",
    "plt.plot(fpr, tpr, label='Train')\n",
    "\n",
    "fpr, tpr, _ = roc_curve(y_cv, y_cv_score[:,1])\n",
    "cv_auc = auc(fpr, tpr)\n",
    "plt.plot(fpr, tpr, label='CV')\n",
    "\n",
    "plt.plot([0, 1], [0, 1], 'k--')\n",
    "plt.plot([0, 0, 1], [0, 1, 1], 'k')\n",
    "plt.title('Tain AUC : ' + str(train_auc) + ' CV AUC : ' + str(cv_auc))"
   ]
  },
  {
   "cell_type": "markdown",
   "metadata": {},
   "source": [
    "## Train Model for submission (on all training data)"
   ]
  },
  {
   "cell_type": "code",
   "execution_count": 37,
   "metadata": {},
   "outputs": [
    {
     "name": "stdout",
     "output_type": "stream",
     "text": [
      " Model Fit Processing Time : 237.62721467018127\n"
     ]
    },
    {
     "data": {
      "text/plain": [
       "Text(0.5,1,'AUC : 0.937791822704883')"
      ]
     },
     "execution_count": 37,
     "metadata": {},
     "output_type": "execute_result"
    },
    {
     "data": {
      "image/png": "[encoded data removed]",
      "text/plain": [
       "<Figure size 432x288 with 1 Axes>"
      ]
     },
     "metadata": {},
     "output_type": "display_data"
    }
   ],
   "source": [
    "gbc_final = GradientBoostingClassifier(max_depth=5,\n",
    "                                 n_estimators=200,\n",
    "                                 learning_rate=0.05,\n",
    "                                 subsample=0.9,\n",
    "                                 max_features='auto')\n",
    "\n",
    "start = time.time()\n",
    "gbc_final.fit(X[important_cols], y)\n",
    "print(' Model Fit Processing Time : ' + str(time.time()-start))\n",
    "y_predict = gbc_final.predict(X[important_cols])\n",
    "y_score = gbc_final.predict_proba(X[important_cols])\n",
    "\n",
    "fpr, tpr, _ = roc_curve(y, y_score[:,1])\n",
    "cv_auc = auc(fpr, tpr)\n",
    "plt.plot(fpr, tpr, label='All Train')\n",
    "\n",
    "plt.plot([0, 1], [0, 1], 'k--')\n",
    "plt.plot([0, 0, 1], [0, 1, 1], 'k')\n",
    "plt.title('AUC : ' + str(cv_auc))"
   ]
  },
  {
   "cell_type": "code",
   "execution_count": 38,
   "metadata": {},
   "outputs": [
    {
     "data": {
      "text/plain": [
       "<matplotlib.axes._subplots.AxesSubplot at 0x1b3092bd860>"
      ]
     },
     "execution_count": 38,
     "metadata": {},
     "output_type": "execute_result"
    },
    {
     "data": {
      "image/png": "[encoded data removed]",
      "text/plain": [
       "<Figure size 432x288 with 1 Axes>"
      ]
     },
     "metadata": {},
     "output_type": "display_data"
    }
   ],
   "source": [
    "gbc_fi = gbc_final.feature_importances_\n",
    "fi_dict = dict(zip(X[important_cols].columns, gbc_fi))\n",
    "fi_df = pd.DataFrame.from_dict(fi_dict, orient='index').rename(columns={0:'Importance'})\n",
    "fi_df.sort_values('Importance', ascending=False)[:30].plot.bar()"
   ]
  },
  {
   "cell_type": "code",
   "execution_count": 39,
   "metadata": {},
   "outputs": [],
   "source": [
    "test_y_scores = gbc_final.predict_proba(P_test[important_cols])"
   ]
  },
  {
   "cell_type": "code",
   "execution_count": 40,
   "metadata": {},
   "outputs": [],
   "source": [
    "sample_submission = pd.read_csv('sample_submission.csv')\n",
    "sample_submission[\"isFraud\"] = test_y_scores\n",
    "sample_submission.set_index('TransactionID').to_csv('submission_github.csv')"
   ]
  }
 ],
 "metadata": {
  "kernelspec": {
   "display_name": "Python 3",
   "language": "python",
   "name": "python3"
  },
  "language_info": {
   "codemirror_mode": {
    "name": "ipython",
    "version": 3
   },
   "file_extension": ".py",
   "mimetype": "text/x-python",
   "name": "python",
   "nbconvert_exporter": "python",
   "pygments_lexer": "ipython3",
   "version": "3.6.5"
  }
 },
 "nbformat": 4,
 "nbformat_minor": 2
}
