{
 "cells": [
  {
   "cell_type": "markdown",
   "metadata": {},
   "source": [
    "# IEEE Fraud Challenge: LightGBM Experiment\n",
    "\n",
    "By: Michael Mehallow\n",
    "\n",
    "The goal of this notebook is to apply LightGBM to the IEEE Fraud Challenge dataset and compare results with using sklearn's Gradient Boosted Classifier. The IEEE Fraud Challenge dataset contains data from real-world e-commerce transactions and contains a wide range of features from device type to product features. \n",
    "\n",
    "LightGBM is a Gradient Boosting Decision Tree implementation which is designed to be more efficient that the standard algorithm. It achieves its goal through two techniques: Gradient-based One-Side Sampling and Exclusive Feature Bundling. These techniques aim to reduce the number of decision tree split points which need to be evaluated. By reducing the number of evaluations, the implementation results in significantly faster \n",
    "\n",
    "Objective measures I will be looking at are training time and model accuracy over a range of iteration numbers. I will also be considering the differences in pre-processing of categorical features as LightGBM can accept categorical features (they do not need to be encoded)."
   ]
  },
  {
   "cell_type": "code",
   "execution_count": 1,
   "metadata": {},
   "outputs": [],
   "source": [
    "import pandas as pd\n",
    "import numpy as np\n",
    "import matplotlib.pyplot as plt\n",
    "import seaborn as sns\n",
    "import time\n",
    "import pickle\n",
    "from sklearn.decomposition import PCA\n",
    "from sklearn.ensemble import GradientBoostingClassifier\n",
    "from sklearn.metrics import roc_curve, auc"
   ]
  },
  {
   "cell_type": "code",
   "execution_count": 2,
   "metadata": {},
   "outputs": [],
   "source": [
    "import lightgbm as lgb"
   ]
  },
  {
   "cell_type": "markdown",
   "metadata": {},
   "source": [
    "To make the experiment computationally easier, I randomly sampled a subset of the training and test data. The training set contains 177,162 records, and the test set contains 152,007 records, for a combined 329,169 records."
   ]
  },
  {
   "cell_type": "code",
   "execution_count": 71,
   "metadata": {},
   "outputs": [],
   "source": [
    "file = open('C:/Users/Michael/Documents/Data-Science/ieee-fraud-detection/medium_train_test.pickle', 'rb')\n",
    "train, y_train, test = pickle.load(file)"
   ]
  },
  {
   "cell_type": "markdown",
   "metadata": {},
   "source": [
    "Combine test and train data sets"
   ]
  },
  {
   "cell_type": "code",
   "execution_count": 4,
   "metadata": {},
   "outputs": [],
   "source": [
    "feature_cols = test.columns\n",
    "df = pd.concat([train[feature_cols], test[feature_cols]], axis=0).copy()"
   ]
  },
  {
   "cell_type": "markdown",
   "metadata": {},
   "source": [
    "Retain columns names and indices, but remove original dataframes to save memory."
   ]
  },
  {
   "cell_type": "code",
   "execution_count": 5,
   "metadata": {},
   "outputs": [],
   "source": [
    "train_index = train.index\n",
    "test_index = test.index\n",
    "\n",
    "train_columns = train.columns\n",
    "test_columns = test.columns\n",
    "\n",
    "del train, test"
   ]
  },
  {
   "cell_type": "markdown",
   "metadata": {},
   "source": [
    "## Feature Engineering / Pre Processing\n",
    "\n",
    "For this experiment I plan to only do some of the feature engineering I did for my acual submission. I plan to create the most important features from my submission. These are:\n",
    "\n",
    "- Frequency encode C columns\n",
    "- Apply target encoding for id_19\n",
    "\n",
    "As the data will need to be in slightly different formats for each, I will have common processing section, and a model-specific processing section."
   ]
  },
  {
   "cell_type": "markdown",
   "metadata": {},
   "source": [
    "**Frequency encode Count Columns**"
   ]
  },
  {
   "cell_type": "code",
   "execution_count": 6,
   "metadata": {},
   "outputs": [],
   "source": [
    "# Frequency Encode C columns\n",
    "C_freq_encode_cols = ['C1', 'C2', 'C4', 'C5', 'C6', 'C7', 'C8', 'C9', 'C10', 'C11', 'C12', 'C13', 'C14']\n",
    "num_rows = len(df)\n",
    "\n",
    "for col in C_freq_encode_cols:\n",
    "    fq_encode = (df[col].value_counts(dropna=False) / num_rows).to_dict()   \n",
    "    df[col + '_fq_enc'] = df[col].map(fq_encode)\n",
    "\n",
    "C_freq_encoded_columns = [ x + '_fq_enc' for x in C_freq_encode_cols]      \n",
    "\n",
    "df['All_C_fq_enc_sum'] = df[C_freq_encoded_columns].sum(axis=1)"
   ]
  },
  {
   "cell_type": "markdown",
   "metadata": {},
   "source": [
    "**Target encode id_19**"
   ]
  },
  {
   "cell_type": "code",
   "execution_count": 7,
   "metadata": {},
   "outputs": [],
   "source": [
    "targets = {}\n",
    "df['isFraud'] = y_train\n",
    "\n",
    "for col in ['id_19']:\n",
    "    targets[col] = df.groupby([col])['isFraud'].mean()\n",
    "    \n",
    "df = df.drop(columns={'isFraud'})\n",
    "\n",
    "df['id_19_target'] = df['id_19'].map(targets['id_19'])"
   ]
  },
  {
   "cell_type": "markdown",
   "metadata": {},
   "source": [
    "### LightGBM Processing"
   ]
  },
  {
   "cell_type": "code",
   "execution_count": 8,
   "metadata": {},
   "outputs": [],
   "source": [
    "from sklearn.preprocessing import LabelEncoder"
   ]
  },
  {
   "cell_type": "code",
   "execution_count": 9,
   "metadata": {},
   "outputs": [],
   "source": [
    "df['ProductCD'] = pd.Categorical(df['ProductCD'])"
   ]
  },
  {
   "cell_type": "code",
   "execution_count": 66,
   "metadata": {},
   "outputs": [],
   "source": [
    "vesta_columns = [x for x in df.columns if x[0]=='V']\n",
    "\n",
    "feature_columns = ['TransactionAmt', 'ProductCD', 'All_C_fq_enc_sum', 'id_19_target']\n",
    "feature_columns.extend(vesta_columns)\n",
    "feature_columns.extend(C_freq_encoded_columns)"
   ]
  },
  {
   "cell_type": "markdown",
   "metadata": {},
   "source": [
    "### LightGBM Model\n",
    "The following section performs preprocessing of the data, creates LightGBM dataset objects, sets model parameters, and trains the model."
   ]
  },
  {
   "cell_type": "code",
   "execution_count": 61,
   "metadata": {},
   "outputs": [
    {
     "name": "stdout",
     "output_type": "stream",
     "text": [
      "LGBM Training Time : 4.157716274261475\n"
     ]
    }
   ],
   "source": [
    "# Split test and train parts of dataframe\n",
    "P_train = df[:len(train_index)]\n",
    "P_test = df[len(train_index):]\n",
    "\n",
    "# Downsample negative values to remove class imbalance\n",
    "positive = P_train[y_train==1].index\n",
    "negative = P_train[y_train==0].sample(frac=0.04, random_state=1).index\n",
    "\n",
    "# Combine indicies\n",
    "downsample_train_idx = positive.append(negative)\n",
    "\n",
    "# Create new training set\n",
    "X = P_train.loc[downsample_train_idx].sort_values(by='TransactionID')\n",
    "y = y_train.loc[X.index]\n",
    "\n",
    "# Filter Columns\n",
    "lgb_cols = [x for x in feature_columns if x != 'ProductCD_LE']\n",
    "\n",
    "# Create cross validation dataset\n",
    "end_idx = round(len(X)*0.8)\n",
    "X_train_cv = X[:end_idx][lgb_cols]\n",
    "y_train_cv = y[:end_idx]\n",
    "X_cv = X[end_idx:][lgb_cols]\n",
    "y_cv = y[end_idx:]\n",
    "\n",
    "# Create Dataset object\n",
    "train_data = lgb.Dataset(X_train_cv,\n",
    "                         label=y_train_cv)\n",
    "\n",
    "# Create Cross Validation Dataset object\n",
    "cv_data = train_data.create_valid(X_cv,\n",
    "                                  label=y_cv)\n",
    "\n",
    "# Set booster parameters\n",
    "param = {'learning_rate': 0.1,\n",
    "         'max_depth': 4,\n",
    "         'feature_fraction': 1,\n",
    "         'bagging_fraction': 0.8,\n",
    "         'metric': 'auc',\n",
    "         'free_raw_data': False}\n",
    "\n",
    "num_round = 300\n",
    "start = time.time()\n",
    "bst = lgb.train(param, train_data, num_round, valid_sets=[cv_data],\n",
    "                verbose_eval=False)\n",
    "print('LGBM Training Time : ' + str(time.time()-start))"
   ]
  },
  {
   "cell_type": "markdown",
   "metadata": {},
   "source": [
    "### LightGBM Evaluation"
   ]
  },
  {
   "cell_type": "code",
   "execution_count": 15,
   "metadata": {},
   "outputs": [],
   "source": [
    "trial_num_iters = [10, 50, 100, 150, 200, 250, 300] \n",
    "\n",
    "param = {'learning_rate': 0.1,\n",
    "         'max_depth': 4,\n",
    "         'feature_fraction': 1,\n",
    "         'bagging_fraction': 0.8,\n",
    "         'metric': 'auc',\n",
    "         'free_raw_data': False}\n",
    "\n",
    "fit_times = {}\n",
    "cv_auc_scores = {}\n",
    "\n",
    "for num_iter in trial_num_iters:\n",
    "    # Create Dataset object\n",
    "    train_data = lgb.Dataset(X_train_cv,\n",
    "                             label=y_train_cv)\n",
    "\n",
    "    # Create Cross Validation Dataset object\n",
    "    cv_data = train_data.create_valid(X_cv,\n",
    "                                      label=y_cv)\n",
    "\n",
    "    start = time.time()\n",
    "    bst = lgb.train(param, train_data, num_iter, valid_sets=[cv_data],\n",
    "                    verbose_eval=False)\n",
    "    fit_times[num_iter] = time.time() - start\n",
    "    \n",
    "    # Calculate cv auc               \n",
    "    y_cv_score = bst.predict(X_cv)\n",
    "    fpr, tpr, _ = roc_curve(y_cv, y_cv_score)\n",
    "    cv_auc_scores[num_iter] = auc(fpr, tpr)    "
   ]
  },
  {
   "cell_type": "code",
   "execution_count": 16,
   "metadata": {},
   "outputs": [
    {
     "data": {
      "text/plain": [
       "[<matplotlib.lines.Line2D at 0x1be97529400>]"
      ]
     },
     "execution_count": 16,
     "metadata": {},
     "output_type": "execute_result"
    },
    {
     "data": {
      "image/png": "[encoded data removed]",
      "text/plain": [
       "<Figure size 432x288 with 1 Axes>"
      ]
     },
     "metadata": {},
     "output_type": "display_data"
    }
   ],
   "source": [
    "plt.plot(cv_auc_scores.keys(), cv_auc_scores.values())"
   ]
  },
  {
   "cell_type": "code",
   "execution_count": 23,
   "metadata": {},
   "outputs": [],
   "source": [
    "results = {}\n",
    "\n",
    "results['LGB'] = {}\n",
    "results['Sklearn'] = {}\n",
    "\n",
    "results['LGB']['cv_auc_score'] = cv_auc_scores\n",
    "results['LGB']['fit_time'] = fit_times"
   ]
  },
  {
   "cell_type": "code",
   "execution_count": 30,
   "metadata": {},
   "outputs": [
    {
     "data": {
      "text/html": [
       "<div>\n",
       "<style scoped>\n",
       "    .dataframe tbody tr th:only-of-type {\n",
       "        vertical-align: middle;\n",
       "    }\n",
       "\n",
       "    .dataframe tbody tr th {\n",
       "        vertical-align: top;\n",
       "    }\n",
       "\n",
       "    .dataframe thead th {\n",
       "        text-align: right;\n",
       "    }\n",
       "</style>\n",
       "<table border=\"1\" class=\"dataframe\">\n",
       "  <thead>\n",
       "    <tr style=\"text-align: right;\">\n",
       "      <th></th>\n",
       "      <th>cv_auc_score</th>\n",
       "      <th>fit_time</th>\n",
       "    </tr>\n",
       "  </thead>\n",
       "  <tbody>\n",
       "    <tr>\n",
       "      <th>10</th>\n",
       "      <td>0.854602</td>\n",
       "      <td>0.906478</td>\n",
       "    </tr>\n",
       "    <tr>\n",
       "      <th>50</th>\n",
       "      <td>0.873826</td>\n",
       "      <td>1.359190</td>\n",
       "    </tr>\n",
       "    <tr>\n",
       "      <th>100</th>\n",
       "      <td>0.878270</td>\n",
       "      <td>1.892909</td>\n",
       "    </tr>\n",
       "    <tr>\n",
       "      <th>150</th>\n",
       "      <td>0.880443</td>\n",
       "      <td>2.413611</td>\n",
       "    </tr>\n",
       "    <tr>\n",
       "      <th>200</th>\n",
       "      <td>0.882776</td>\n",
       "      <td>3.162181</td>\n",
       "    </tr>\n",
       "    <tr>\n",
       "      <th>250</th>\n",
       "      <td>0.884004</td>\n",
       "      <td>3.578925</td>\n",
       "    </tr>\n",
       "    <tr>\n",
       "      <th>300</th>\n",
       "      <td>0.885159</td>\n",
       "      <td>4.433450</td>\n",
       "    </tr>\n",
       "  </tbody>\n",
       "</table>\n",
       "</div>"
      ],
      "text/plain": [
       "     cv_auc_score  fit_time\n",
       "10       0.854602  0.906478\n",
       "50       0.873826  1.359190\n",
       "100      0.878270  1.892909\n",
       "150      0.880443  2.413611\n",
       "200      0.882776  3.162181\n",
       "250      0.884004  3.578925\n",
       "300      0.885159  4.433450"
      ]
     },
     "execution_count": 30,
     "metadata": {},
     "output_type": "execute_result"
    }
   ],
   "source": [
    "pd.DataFrame(results['LGB'])"
   ]
  },
  {
   "cell_type": "markdown",
   "metadata": {},
   "source": [
    "### Sklearn Processing"
   ]
  },
  {
   "cell_type": "code",
   "execution_count": 67,
   "metadata": {},
   "outputs": [],
   "source": [
    "enc = df[feature_columns].copy()\n",
    "\n",
    "# Fill nan values for id_19 target encoding\n",
    "enc['id_19_target'] = enc['id_19_target'].fillna(0.01)\n",
    "\n",
    "# Fill nan values for vesta features\n",
    "vesta_columns = [x for x in enc.columns if x[0]=='V']  \n",
    "for feature in vesta_columns:\n",
    "    enc[feature] = enc[feature].fillna(-999)\n",
    "    \n",
    "# One Hot Encode ProductCD\n",
    "enc = pd.get_dummies(enc)"
   ]
  },
  {
   "cell_type": "markdown",
   "metadata": {},
   "source": [
    "### Sklearn Gradient Boosted Classifier"
   ]
  },
  {
   "cell_type": "code",
   "execution_count": 32,
   "metadata": {},
   "outputs": [
    {
     "name": "stdout",
     "output_type": "stream",
     "text": [
      "Model Fit Processing Time : 74.40334701538086\n"
     ]
    },
    {
     "data": {
      "image/png": "[encoded data removed]",
      "text/plain": [
       "<Figure size 576x432 with 1 Axes>"
      ]
     },
     "metadata": {},
     "output_type": "display_data"
    }
   ],
   "source": [
    "# Split test and train parts of dataframe\n",
    "P_train = enc[:len(train_index)]\n",
    "P_test = enc[len(train_index):]\n",
    "\n",
    "# Downsample negative values\n",
    "positive = P_train[y_train==1].index\n",
    "negative = P_train[y_train==0].sample(frac=0.04, random_state=1).index\n",
    "\n",
    "# Combine indicies\n",
    "downsample_train_idx = positive.append(negative)\n",
    "\n",
    "# Create new training set\n",
    "X = P_train.loc[downsample_train_idx].sort_values(by='TransactionID')\n",
    "y = y_train.loc[X.index]\n",
    "\n",
    "# Create cross validation dataset\n",
    "end_idx = round(len(X)*0.8)\n",
    "X_train_cv = X[:end_idx]\n",
    "y_train_cv = y[:end_idx]\n",
    "X_cv = X[end_idx:]\n",
    "y_cv = y[end_idx:]\n",
    "\n",
    "# Define gradient boosting classifier\n",
    "gbc = GradientBoostingClassifier(max_depth=4,\n",
    "                                 n_estimators=400,\n",
    "                                 learning_rate=0.1,\n",
    "                                 subsample=0.9,\n",
    "                                 max_features='auto')\n",
    "\n",
    "start = time.time()\n",
    "gbc.fit(X_train_cv, y_train_cv)\n",
    "print('Model Fit Processing Time : ' + str(time.time()-start))\n",
    "y_predict = gbc.predict(X_train_cv)\n",
    "y_train_score = gbc.predict_proba(X_train_cv)\n",
    "y_cv_score = gbc.predict_proba(X_cv)\n",
    "\n",
    "fpr, tpr, _ = roc_curve(y_train_cv, y_train_score[:,1])\n",
    "train_auc = auc(fpr, tpr)\n",
    "plt.rcParams['figure.figsize'] = 8, 6\n",
    "plt.plot(fpr, tpr, label='Train')\n",
    "\n",
    "fpr, tpr, _ = roc_curve(y_cv, y_cv_score[:,1])\n",
    "cv_auc = auc(fpr, tpr)\n",
    "plt.plot(fpr, tpr, label='CV')\n",
    "\n",
    "plt.plot([0, 1], [0, 1], 'k--')\n",
    "plt.plot([0, 0, 1], [0, 1, 1], 'k')\n",
    "plt.title('Train AUC : ' + str(train_auc) + ' CV AUC : ' + str(cv_auc))\n",
    "plt.show()"
   ]
  },
  {
   "cell_type": "markdown",
   "metadata": {},
   "source": [
    "### Sklearn Evalation"
   ]
  },
  {
   "cell_type": "code",
   "execution_count": 33,
   "metadata": {},
   "outputs": [],
   "source": [
    "fit_times = {}\n",
    "cv_auc_scores = {}\n",
    "                   \n",
    "for num_iter in trial_num_iters:\n",
    "    gbc = GradientBoostingClassifier(max_depth=4,\n",
    "                                     n_estimators=num_iter,\n",
    "                                     learning_rate=0.1,\n",
    "                                     subsample=0.9,\n",
    "                                     max_features='auto')    \n",
    "    start = time.time()\n",
    "    gbc.fit(X_train_cv, y_train_cv)\n",
    "    fit_times[num_iter] = time.time() - start\n",
    "                   \n",
    "    # Calculate cv auc               \n",
    "    y_cv_score = gbc.predict_proba(X_cv)\n",
    "    fpr, tpr, _ = roc_curve(y_cv, y_cv_score[:,1])\n",
    "    cv_auc_scores[num_iter] = auc(fpr, tpr)"
   ]
  },
  {
   "cell_type": "code",
   "execution_count": 35,
   "metadata": {},
   "outputs": [],
   "source": [
    "results['Sklearn']['cv_auc_score'] = cv_auc_scores\n",
    "results['Sklearn']['fit_time'] = fit_times"
   ]
  },
  {
   "cell_type": "code",
   "execution_count": 38,
   "metadata": {},
   "outputs": [
    {
     "data": {
      "text/html": [
       "<div>\n",
       "<style scoped>\n",
       "    .dataframe tbody tr th:only-of-type {\n",
       "        vertical-align: middle;\n",
       "    }\n",
       "\n",
       "    .dataframe tbody tr th {\n",
       "        vertical-align: top;\n",
       "    }\n",
       "\n",
       "    .dataframe thead th {\n",
       "        text-align: right;\n",
       "    }\n",
       "</style>\n",
       "<table border=\"1\" class=\"dataframe\">\n",
       "  <thead>\n",
       "    <tr style=\"text-align: right;\">\n",
       "      <th></th>\n",
       "      <th>cv_auc_score</th>\n",
       "      <th>fit_time</th>\n",
       "    </tr>\n",
       "  </thead>\n",
       "  <tbody>\n",
       "    <tr>\n",
       "      <th>10</th>\n",
       "      <td>0.857540</td>\n",
       "      <td>2.418607</td>\n",
       "    </tr>\n",
       "    <tr>\n",
       "      <th>50</th>\n",
       "      <td>0.875481</td>\n",
       "      <td>11.559324</td>\n",
       "    </tr>\n",
       "    <tr>\n",
       "      <th>100</th>\n",
       "      <td>0.879544</td>\n",
       "      <td>20.840897</td>\n",
       "    </tr>\n",
       "    <tr>\n",
       "      <th>150</th>\n",
       "      <td>0.883310</td>\n",
       "      <td>29.643064</td>\n",
       "    </tr>\n",
       "    <tr>\n",
       "      <th>200</th>\n",
       "      <td>0.886183</td>\n",
       "      <td>43.496537</td>\n",
       "    </tr>\n",
       "    <tr>\n",
       "      <th>250</th>\n",
       "      <td>0.887418</td>\n",
       "      <td>67.865612</td>\n",
       "    </tr>\n",
       "    <tr>\n",
       "      <th>300</th>\n",
       "      <td>0.886273</td>\n",
       "      <td>82.077396</td>\n",
       "    </tr>\n",
       "  </tbody>\n",
       "</table>\n",
       "</div>"
      ],
      "text/plain": [
       "     cv_auc_score   fit_time\n",
       "10       0.857540   2.418607\n",
       "50       0.875481  11.559324\n",
       "100      0.879544  20.840897\n",
       "150      0.883310  29.643064\n",
       "200      0.886183  43.496537\n",
       "250      0.887418  67.865612\n",
       "300      0.886273  82.077396"
      ]
     },
     "execution_count": 38,
     "metadata": {},
     "output_type": "execute_result"
    }
   ],
   "source": [
    "pd.DataFrame(results['Sklearn'])"
   ]
  },
  {
   "cell_type": "markdown",
   "metadata": {},
   "source": [
    "## Conclusion"
   ]
  },
  {
   "cell_type": "markdown",
   "metadata": {},
   "source": [
    "In the paper, *LightGBM: A Highly Efficient Gradient Boosting Decision Tree*, the authors claim \"LightGBM speeds up the training process of conventional GBDT by up to over 20 times while achieving almost the same accuracy.\" In our application, we observed that LightGBM was up to 18 times faster than Sklearn GBC. In addition, LightGBM achieved nearly the same accuracy as Sklearn. Sklearn was only 0.15-0.4 % more accurate than LightGBM. "
   ]
  },
  {
   "cell_type": "code",
   "execution_count": 89,
   "metadata": {},
   "outputs": [
    {
     "data": {
      "image/png": "[encoded data removed]",
      "text/plain": [
       "<Figure size 1512x432 with 3 Axes>"
      ]
     },
     "metadata": {},
     "output_type": "display_data"
    }
   ],
   "source": [
    "plt.rcParams['figure.figsize'] = 21, 6\n",
    "plt.subplot(1, 3, 1)\n",
    "(pd.DataFrame(results['Sklearn'])['fit_time']/pd.DataFrame(results['LGB'])['fit_time']).plot(marker='o', linewidth=0)\n",
    "plt.xlabel('Iterations')\n",
    "plt.ylabel('Ratio of Training Times')\n",
    "plt.title('Comparison of LightGBM and Sklearn GBC fit times')\n",
    "plt.subplot(1, 3, 2)\n",
    "(pd.DataFrame(results['Sklearn'])['cv_auc_score']/pd.DataFrame(results['LGB'])['cv_auc_score']).plot(marker='o', linewidth=0)\n",
    "plt.xlabel('Iterations')\n",
    "plt.ylabel('Ratio of Sklearn to LightGBM CV AUC Score')\n",
    "plt.title('Comparison of LightGBM and Sklearn GBC CV AUC scores')\n",
    "plt.subplot(1, 3, 3)\n",
    "plt.plot('fit_time', 'cv_auc_score', data=pd.DataFrame(results['LGB']), label='LightGBM')\n",
    "plt.plot('fit_time', 'cv_auc_score', data=pd.DataFrame(results['Sklearn']), label='Sklearn')\n",
    "plt.xlabel('Time (s)')\n",
    "plt.ylabel('CV AUC Score')\n",
    "plt.legend()\n",
    "plt.title('Time - AUC Curves')\n",
    "plt.show()"
   ]
  },
  {
   "cell_type": "markdown",
   "metadata": {},
   "source": [
    "Below is a list of preprocessing steps used for the two different gradient booseted decision tree implementations.\n",
    "\n",
    "**LightGBM**\n",
    "- Convert ProductCD field to categorical\n",
    "\n",
    "**Sklearn**\n",
    "- Fill nans for 'id_19_target field'\n",
    "- Fill nans for Vesta columns\n",
    "- One hot encode ProductCD field\n",
    "\n",
    "In terms of data cleansing, LightGBM was easier. I did not have to fill nan values for the id_19_target field or the Vesta columns. In addition, for the Vesta columns I filled them with \"-999\" which made this step very easy. However a more thorough and manual process of filling values based on attributes of the data would be considerably more time consuming. In the event of going through the manual process, LightGBM would be significantly easier as it does not require filling in na values."
   ]
  },
  {
   "cell_type": "markdown",
   "metadata": {},
   "source": [
    "### References"
   ]
  },
  {
   "cell_type": "markdown",
   "metadata": {},
   "source": [
    "Guolin Ke, Qi Meng, Thomas Finley, Taifeng Wang, Wei Chen, Weidong Ma, Qiwei Ye, Tie-Yan Liu. “LightGBM: A Highly Efficient Gradient Boosting Decision Tree.” Advances in Neural Information Processing Systems 30 (NIPS 2017), pp. 3149-3157.\n",
    "\n",
    "https://papers.nips.cc/paper/6907-lightgbm-a-highly-efficient-gradient-boosting-decision-tree.pdf"
   ]
  }
 ],
 "metadata": {
  "kernelspec": {
   "display_name": "Python 3",
   "language": "python",
   "name": "python3"
  },
  "language_info": {
   "codemirror_mode": {
    "name": "ipython",
    "version": 3
   },
   "file_extension": ".py",
   "mimetype": "text/x-python",
   "name": "python",
   "nbconvert_exporter": "python",
   "pygments_lexer": "ipython3",
   "version": "3.6.5"
  }
 },
 "nbformat": 4,
 "nbformat_minor": 2
}
